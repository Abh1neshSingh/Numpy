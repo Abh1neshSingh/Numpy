{
 "cells": [
  {
   "cell_type": "code",
   "execution_count": 40,
   "id": "80e21cdb-e04d-49bd-9daa-5462394475e6",
   "metadata": {},
   "outputs": [],
   "source": [
    "import numpy as np"
   ]
  },
  {
   "cell_type": "code",
   "execution_count": 41,
   "id": "50570313-9f3f-4f25-ab5f-96db422fa826",
   "metadata": {},
   "outputs": [
    {
     "data": {
      "text/plain": [
       "'In NumPy, broadcasting is a powerful mechanism that\\nallows you to perform operations on arrays of different \\nshapes and sizes. Broadcasting automatically aligns \\narrays with compatible shapes during arithmetic \\noperations, making it unnecessary to explicitly reshape\\nor tile arrays.\\n'"
      ]
     },
     "execution_count": 41,
     "metadata": {},
     "output_type": "execute_result"
    }
   ],
   "source": [
    "# Broad Casting\n",
    "'''In NumPy, broadcasting is a powerful mechanism that\n",
    "allows you to perform operations on arrays of different \n",
    "shapes and sizes. Broadcasting automatically aligns \n",
    "arrays with compatible shapes during arithmetic \n",
    "operations, making it unnecessary to explicitly reshape\n",
    "or tile arrays.\n",
    "'''\n",
    "\n"
   ]
  },
  {
   "cell_type": "code",
   "execution_count": 42,
   "id": "f5b4b3ef-4b9c-4dd7-9949-3ad951b5303a",
   "metadata": {},
   "outputs": [],
   "source": [
    "arr =np.zeros((3,4))"
   ]
  },
  {
   "cell_type": "code",
   "execution_count": 43,
   "id": "726a2996-85c4-43e5-81d7-bdc268862b2b",
   "metadata": {},
   "outputs": [
    {
     "data": {
      "text/plain": [
       "array([[0., 0., 0., 0.],\n",
       "       [0., 0., 0., 0.],\n",
       "       [0., 0., 0., 0.]])"
      ]
     },
     "execution_count": 43,
     "metadata": {},
     "output_type": "execute_result"
    }
   ],
   "source": [
    "arr"
   ]
  },
  {
   "cell_type": "code",
   "execution_count": 44,
   "id": "d10c77f7-ffe2-4122-b12e-8fadac4c007b",
   "metadata": {},
   "outputs": [
    {
     "data": {
      "text/plain": [
       "array([[1., 1., 1., 1.],\n",
       "       [1., 1., 1., 1.],\n",
       "       [1., 1., 1., 1.]])"
      ]
     },
     "execution_count": 44,
     "metadata": {},
     "output_type": "execute_result"
    }
   ],
   "source": [
    "arr+1"
   ]
  },
  {
   "cell_type": "code",
   "execution_count": 45,
   "id": "ade72453-6741-4a55-9444-1aaaba81f449",
   "metadata": {},
   "outputs": [
    {
     "data": {
      "text/plain": [
       "array([[5., 5., 5., 5.],\n",
       "       [5., 5., 5., 5.],\n",
       "       [5., 5., 5., 5.]])"
      ]
     },
     "execution_count": 45,
     "metadata": {},
     "output_type": "execute_result"
    }
   ],
   "source": [
    "arr+5"
   ]
  },
  {
   "cell_type": "code",
   "execution_count": null,
   "id": "e361dff7-0c11-4591-b71b-cfcd2279f20f",
   "metadata": {},
   "outputs": [],
   "source": [
    "\n",
    "\n"
   ]
  },
  {
   "cell_type": "code",
   "execution_count": 46,
   "id": "26ba0f20-3260-4895-9e02-e8bfabb26504",
   "metadata": {},
   "outputs": [
    {
     "data": {
      "text/plain": [
       "array([[0., 0., 0., 0.],\n",
       "       [0., 0., 0., 0.],\n",
       "       [0., 0., 0., 0.]])"
      ]
     },
     "execution_count": 46,
     "metadata": {},
     "output_type": "execute_result"
    }
   ],
   "source": [
    "arr"
   ]
  },
  {
   "cell_type": "code",
   "execution_count": 47,
   "id": "3448fff3-26d1-4260-962c-bbf3dd4a7de6",
   "metadata": {},
   "outputs": [],
   "source": [
    "a =np.array([1,2,3,4])"
   ]
  },
  {
   "cell_type": "code",
   "execution_count": 48,
   "id": "7b87af1e-bff9-4403-95a0-3cab0fd0f502",
   "metadata": {},
   "outputs": [
    {
     "data": {
      "text/plain": [
       "array([1, 2, 3, 4])"
      ]
     },
     "execution_count": 48,
     "metadata": {},
     "output_type": "execute_result"
    }
   ],
   "source": [
    "a"
   ]
  },
  {
   "cell_type": "code",
   "execution_count": 49,
   "id": "5e80a6e2-6b79-4004-9f58-796cbbdab288",
   "metadata": {},
   "outputs": [],
   "source": [
    "result = arr +a"
   ]
  },
  {
   "cell_type": "code",
   "execution_count": 50,
   "id": "d49b969a-b031-4322-bd5d-9aa63c5adebc",
   "metadata": {},
   "outputs": [
    {
     "data": {
      "text/plain": [
       "array([[1., 2., 3., 4.],\n",
       "       [1., 2., 3., 4.],\n",
       "       [1., 2., 3., 4.]])"
      ]
     },
     "execution_count": 50,
     "metadata": {},
     "output_type": "execute_result"
    }
   ],
   "source": [
    "result"
   ]
  },
  {
   "cell_type": "code",
   "execution_count": null,
   "id": "47acb787-902a-4eb9-94ac-ea6731db8d77",
   "metadata": {},
   "outputs": [],
   "source": []
  },
  {
   "cell_type": "code",
   "execution_count": 51,
   "id": "4a51d9ec-12b7-41e6-8489-0d33972e7c7a",
   "metadata": {},
   "outputs": [
    {
     "data": {
      "text/plain": [
       "array([[0., 0., 0., 0.],\n",
       "       [0., 0., 0., 0.],\n",
       "       [0., 0., 0., 0.]])"
      ]
     },
     "execution_count": 51,
     "metadata": {},
     "output_type": "execute_result"
    }
   ],
   "source": [
    "arr"
   ]
  },
  {
   "cell_type": "code",
   "execution_count": null,
   "id": "5995c0d3-4457-4ebe-a61c-44b5cff674c6",
   "metadata": {},
   "outputs": [],
   "source": []
  },
  {
   "cell_type": "code",
   "execution_count": 52,
   "id": "fe2f8eed-e599-4351-bdbd-ff2a9ba9a32b",
   "metadata": {},
   "outputs": [],
   "source": [
    "b=np.array([[1,2,3]])"
   ]
  },
  {
   "cell_type": "code",
   "execution_count": 53,
   "id": "9e02833e-0cd2-490c-89c8-00a058e87b39",
   "metadata": {},
   "outputs": [],
   "source": [
    "# transpose "
   ]
  },
  {
   "cell_type": "code",
   "execution_count": 54,
   "id": "440fd72e-b781-4500-93a8-bffd27dab774",
   "metadata": {},
   "outputs": [
    {
     "data": {
      "text/plain": [
       "array([[1, 2, 3]])"
      ]
     },
     "execution_count": 54,
     "metadata": {},
     "output_type": "execute_result"
    }
   ],
   "source": [
    "b"
   ]
  },
  {
   "cell_type": "code",
   "execution_count": 55,
   "id": "e4118720-3468-45c3-9512-50669737e8f8",
   "metadata": {},
   "outputs": [
    {
     "data": {
      "text/plain": [
       "array([[1],\n",
       "       [2],\n",
       "       [3]])"
      ]
     },
     "execution_count": 55,
     "metadata": {},
     "output_type": "execute_result"
    }
   ],
   "source": [
    "b.T   # transpose "
   ]
  },
  {
   "cell_type": "code",
   "execution_count": 56,
   "id": "dbb616af-3919-4d55-97a8-a41c831a0276",
   "metadata": {},
   "outputs": [
    {
     "data": {
      "text/plain": [
       "array([[1, 2, 3]])"
      ]
     },
     "execution_count": 56,
     "metadata": {},
     "output_type": "execute_result"
    }
   ],
   "source": [
    "b"
   ]
  },
  {
   "cell_type": "code",
   "execution_count": 57,
   "id": "c3af4949-a859-4745-a892-6fb44d7ab38d",
   "metadata": {},
   "outputs": [
    {
     "ename": "ValueError",
     "evalue": "operands could not be broadcast together with shapes (3,4) (1,3) ",
     "output_type": "error",
     "traceback": [
      "\u001b[0;31m---------------------------------------------------------------------------\u001b[0m",
      "\u001b[0;31mValueError\u001b[0m                                Traceback (most recent call last)",
      "Cell \u001b[0;32mIn[57], line 1\u001b[0m\n\u001b[0;32m----> 1\u001b[0m \u001b[43marr\u001b[49m\u001b[43m \u001b[49m\u001b[38;5;241;43m+\u001b[39;49m\u001b[43mb\u001b[49m\n",
      "\u001b[0;31mValueError\u001b[0m: operands could not be broadcast together with shapes (3,4) (1,3) "
     ]
    }
   ],
   "source": [
    "arr +b "
   ]
  },
  {
   "cell_type": "code",
   "execution_count": 58,
   "id": "9e6679ec-107e-42ae-b9c9-28ef951e0a27",
   "metadata": {},
   "outputs": [
    {
     "data": {
      "text/plain": [
       "array([[1],\n",
       "       [2],\n",
       "       [3]])"
      ]
     },
     "execution_count": 58,
     "metadata": {},
     "output_type": "execute_result"
    }
   ],
   "source": [
    "b.T"
   ]
  },
  {
   "cell_type": "code",
   "execution_count": 59,
   "id": "a19ea6e1-489e-4f63-b1e0-ac33e34ad5e7",
   "metadata": {},
   "outputs": [
    {
     "data": {
      "text/plain": [
       "array([[1., 1., 1., 1.],\n",
       "       [2., 2., 2., 2.],\n",
       "       [3., 3., 3., 3.]])"
      ]
     },
     "execution_count": 59,
     "metadata": {},
     "output_type": "execute_result"
    }
   ],
   "source": [
    "arr + b.T    # for add row wise"
   ]
  },
  {
   "cell_type": "code",
   "execution_count": null,
   "id": "38433963-e223-4c36-95a0-92dae40bf52e",
   "metadata": {},
   "outputs": [],
   "source": []
  },
  {
   "cell_type": "code",
   "execution_count": 61,
   "id": "3aafa987-be37-49b3-beef-6bc02bfa056e",
   "metadata": {},
   "outputs": [],
   "source": [
    "c = np.array([[2],[5],[6]])"
   ]
  },
  {
   "cell_type": "code",
   "execution_count": 62,
   "id": "ebff13a7-0335-4db0-b4e1-f6859fe80bfc",
   "metadata": {},
   "outputs": [
    {
     "data": {
      "text/plain": [
       "array([[2],\n",
       "       [5],\n",
       "       [6]])"
      ]
     },
     "execution_count": 62,
     "metadata": {},
     "output_type": "execute_result"
    }
   ],
   "source": [
    "c"
   ]
  },
  {
   "cell_type": "code",
   "execution_count": 63,
   "id": "8f5e6dad-b737-4c63-88bf-29dffe424f3d",
   "metadata": {},
   "outputs": [
    {
     "data": {
      "text/plain": [
       "array([[2., 2., 2., 2.],\n",
       "       [5., 5., 5., 5.],\n",
       "       [6., 6., 6., 6.]])"
      ]
     },
     "execution_count": 63,
     "metadata": {},
     "output_type": "execute_result"
    }
   ],
   "source": [
    "arr+c"
   ]
  },
  {
   "cell_type": "code",
   "execution_count": null,
   "id": "8021a4f0-3e2d-40c6-995f-befd4a428698",
   "metadata": {},
   "outputs": [],
   "source": []
  },
  {
   "cell_type": "code",
   "execution_count": null,
   "id": "1d4b6225-24d5-4996-a883-19b188738f7a",
   "metadata": {},
   "outputs": [],
   "source": []
  },
  {
   "cell_type": "code",
   "execution_count": 64,
   "id": "c11835bc-9b35-4db4-b1a4-75824ffc2970",
   "metadata": {},
   "outputs": [],
   "source": [
    "# for Functions "
   ]
  },
  {
   "cell_type": "code",
   "execution_count": 66,
   "id": "552e5609-c240-4e77-8fde-3336d8178d7e",
   "metadata": {},
   "outputs": [],
   "source": [
    "arr1 =np.random.randint(1,3,(3,3))"
   ]
  },
  {
   "cell_type": "code",
   "execution_count": 67,
   "id": "ad5814f9-e791-43e0-9552-ca3702529e79",
   "metadata": {},
   "outputs": [
    {
     "data": {
      "text/plain": [
       "array([[1, 2, 1],\n",
       "       [2, 1, 1],\n",
       "       [2, 2, 2]])"
      ]
     },
     "execution_count": 67,
     "metadata": {},
     "output_type": "execute_result"
    }
   ],
   "source": [
    "arr1"
   ]
  },
  {
   "cell_type": "code",
   "execution_count": 68,
   "id": "7c1edf79-5fd2-45a6-8ffc-354f235b8816",
   "metadata": {},
   "outputs": [
    {
     "data": {
      "text/plain": [
       "array([[1.        , 1.41421356, 1.        ],\n",
       "       [1.41421356, 1.        , 1.        ],\n",
       "       [1.41421356, 1.41421356, 1.41421356]])"
      ]
     },
     "execution_count": 68,
     "metadata": {},
     "output_type": "execute_result"
    }
   ],
   "source": [
    "np.sqrt(arr1) # for square root"
   ]
  },
  {
   "cell_type": "code",
   "execution_count": 69,
   "id": "84ca29d5-305e-4340-9a1f-56529105e1a3",
   "metadata": {},
   "outputs": [
    {
     "data": {
      "text/plain": [
       "array([[0.     , 0.30103, 0.     ],\n",
       "       [0.30103, 0.     , 0.     ],\n",
       "       [0.30103, 0.30103, 0.30103]])"
      ]
     },
     "execution_count": 69,
     "metadata": {},
     "output_type": "execute_result"
    }
   ],
   "source": [
    "np.log10(arr1)  # for log data"
   ]
  },
  {
   "cell_type": "code",
   "execution_count": 71,
   "id": "9d7085df-555f-4de1-986d-ac3af90a1fe8",
   "metadata": {},
   "outputs": [
    {
     "data": {
      "text/plain": [
       "array([[2.71828183, 7.3890561 , 2.71828183],\n",
       "       [7.3890561 , 2.71828183, 2.71828183],\n",
       "       [7.3890561 , 7.3890561 , 7.3890561 ]])"
      ]
     },
     "execution_count": 71,
     "metadata": {},
     "output_type": "execute_result"
    }
   ],
   "source": [
    "np.exp(arr1) # for exponential "
   ]
  },
  {
   "cell_type": "code",
   "execution_count": null,
   "id": "62bdd09c-7fd8-4bb0-b16c-14bdc966decd",
   "metadata": {},
   "outputs": [],
   "source": []
  },
  {
   "cell_type": "code",
   "execution_count": 74,
   "id": "8465615d-1b9f-4130-8c7b-46393c2c9bdd",
   "metadata": {},
   "outputs": [],
   "source": [
    "arr2 = np.array([1 ,2,3])"
   ]
  },
  {
   "cell_type": "code",
   "execution_count": 75,
   "id": "fdc82aca-7167-4d75-b371-77db44f4c9c8",
   "metadata": {},
   "outputs": [
    {
     "data": {
      "text/plain": [
       "array([1, 2, 3])"
      ]
     },
     "execution_count": 75,
     "metadata": {},
     "output_type": "execute_result"
    }
   ],
   "source": [
    "arr2"
   ]
  },
  {
   "cell_type": "code",
   "execution_count": 76,
   "id": "1329eea1-b7b7-4c19-aaf4-5cb347bc72a3",
   "metadata": {},
   "outputs": [
    {
     "data": {
      "text/plain": [
       "1"
      ]
     },
     "execution_count": 76,
     "metadata": {},
     "output_type": "execute_result"
    }
   ],
   "source": [
    "np.min(arr2) # to find minimum "
   ]
  },
  {
   "cell_type": "code",
   "execution_count": 78,
   "id": "6399fc6d-bbf5-40c0-9925-e8be284dc65f",
   "metadata": {},
   "outputs": [
    {
     "data": {
      "text/plain": [
       "3"
      ]
     },
     "execution_count": 78,
     "metadata": {},
     "output_type": "execute_result"
    }
   ],
   "source": [
    "np.max(arr2)  # to find  Maximum "
   ]
  },
  {
   "cell_type": "code",
   "execution_count": 79,
   "id": "c29b0f12-03de-4cad-9678-944063ec42bd",
   "metadata": {},
   "outputs": [
    {
     "data": {
      "text/plain": [
       "array([[1, 2, 1],\n",
       "       [2, 1, 1],\n",
       "       [2, 2, 2]])"
      ]
     },
     "execution_count": 79,
     "metadata": {},
     "output_type": "execute_result"
    }
   ],
   "source": [
    "arr1"
   ]
  },
  {
   "cell_type": "code",
   "execution_count": 80,
   "id": "034ce63b-6ada-4af5-8c6b-de18dbdb65dd",
   "metadata": {},
   "outputs": [
    {
     "data": {
      "text/plain": [
       "1"
      ]
     },
     "execution_count": 80,
     "metadata": {},
     "output_type": "execute_result"
    }
   ],
   "source": [
    "np.min(arr1)"
   ]
  },
  {
   "cell_type": "code",
   "execution_count": 81,
   "id": "627f94f6-da2e-4309-876d-a740839ccef0",
   "metadata": {},
   "outputs": [
    {
     "data": {
      "text/plain": [
       "2"
      ]
     },
     "execution_count": 81,
     "metadata": {},
     "output_type": "execute_result"
    }
   ],
   "source": [
    "np.max(arr1)"
   ]
  },
  {
   "cell_type": "code",
   "execution_count": 82,
   "id": "cafddf6e-d7dc-4870-8dfe-1a7386b290c0",
   "metadata": {},
   "outputs": [
    {
     "data": {
      "text/plain": [
       "array([[1, 2, 1],\n",
       "       [2, 1, 1],\n",
       "       [2, 2, 2]])"
      ]
     },
     "execution_count": 82,
     "metadata": {},
     "output_type": "execute_result"
    }
   ],
   "source": [
    "arr1\n"
   ]
  },
  {
   "cell_type": "code",
   "execution_count": 84,
   "id": "c08c5f63-c0ab-4fc9-9cba-d488bd750379",
   "metadata": {},
   "outputs": [
    {
     "data": {
      "text/plain": [
       "array([[1, 2, 2],\n",
       "       [2, 1, 2],\n",
       "       [1, 1, 2]])"
      ]
     },
     "execution_count": 84,
     "metadata": {},
     "output_type": "execute_result"
    }
   ],
   "source": [
    "arr1.T # for Transpose \n",
    "\n"
   ]
  },
  {
   "cell_type": "code",
   "execution_count": null,
   "id": "231f4eb0-74ad-4744-b29a-9ced94096b41",
   "metadata": {},
   "outputs": [],
   "source": []
  },
  {
   "cell_type": "code",
   "execution_count": null,
   "id": "ea704c57-03e6-4588-aafd-cf58ea1995bf",
   "metadata": {},
   "outputs": [],
   "source": []
  },
  {
   "cell_type": "code",
   "execution_count": null,
   "id": "be166348-bc22-42ef-99c6-7d31d06c4caa",
   "metadata": {},
   "outputs": [],
   "source": []
  },
  {
   "cell_type": "code",
   "execution_count": null,
   "id": "1ec40181-968e-4005-bd32-64b6dabacd03",
   "metadata": {},
   "outputs": [],
   "source": []
  },
  {
   "cell_type": "code",
   "execution_count": 93,
   "id": "00b1fef0-5ba6-4ca0-a1d4-9bd367e34b1d",
   "metadata": {},
   "outputs": [
    {
     "data": {
      "text/plain": [
       "array([[1, 2, 1],\n",
       "       [2, 1, 1],\n",
       "       [2, 2, 2]])"
      ]
     },
     "execution_count": 93,
     "metadata": {},
     "output_type": "execute_result"
    }
   ],
   "source": [
    "arr1"
   ]
  },
  {
   "cell_type": "code",
   "execution_count": 94,
   "id": "5e817f44-ac87-4b17-954a-4d2ca6b43a59",
   "metadata": {},
   "outputs": [
    {
     "data": {
      "text/plain": [
       "array([1, 2, 1, 2, 1, 1, 2, 2, 2])"
      ]
     },
     "execution_count": 94,
     "metadata": {},
     "output_type": "execute_result"
    }
   ],
   "source": [
    "arr1.flatten() # reduce higher dimension to one dimension "
   ]
  },
  {
   "cell_type": "code",
   "execution_count": null,
   "id": "058fe5ed-d21e-40d7-a032-7d7d7c83e8d2",
   "metadata": {},
   "outputs": [],
   "source": []
  },
  {
   "cell_type": "code",
   "execution_count": null,
   "id": "f7817da1-e2ed-49f9-98d1-bee332d99b73",
   "metadata": {},
   "outputs": [],
   "source": []
  },
  {
   "cell_type": "code",
   "execution_count": 98,
   "id": "bcdb8537-1b88-44b6-9af9-e4107d6e4f02",
   "metadata": {},
   "outputs": [],
   "source": []
  },
  {
   "cell_type": "code",
   "execution_count": null,
   "id": "f2d3c535-860c-48df-88d2-028a6c3c0de0",
   "metadata": {},
   "outputs": [],
   "source": []
  },
  {
   "cell_type": "code",
   "execution_count": 104,
   "id": "af98deb8-d5f3-4909-ab2e-ddebaff58574",
   "metadata": {},
   "outputs": [],
   "source": [
    "arr4 =np.array([[1,2,3],[4,5,6],[1,2,3]])"
   ]
  },
  {
   "cell_type": "code",
   "execution_count": 105,
   "id": "9b453dea-b749-492b-aa8f-c923ea45ffc4",
   "metadata": {},
   "outputs": [
    {
     "data": {
      "text/plain": [
       "array([[1, 2, 3],\n",
       "       [4, 5, 6],\n",
       "       [1, 2, 3]])"
      ]
     },
     "execution_count": 105,
     "metadata": {},
     "output_type": "execute_result"
    }
   ],
   "source": [
    "arr4"
   ]
  },
  {
   "cell_type": "code",
   "execution_count": null,
   "id": "ace0f3d7-6d78-4222-af80-1ff2a373d6e4",
   "metadata": {},
   "outputs": [
    {
     "data": {
      "text/plain": [
       "27"
      ]
     },
     "execution_count": 106,
     "metadata": {},
     "output_type": "execute_result"
    }
   ],
   "source": [
    "np.sum(arr4)"
   ]
  },
  {
   "cell_type": "code",
   "execution_count": 107,
   "id": "913d84f7-2658-46fd-a6bf-98ebdc3b45cf",
   "metadata": {},
   "outputs": [
    {
     "data": {
      "text/plain": [
       "array([ 6,  9, 12])"
      ]
     },
     "execution_count": 107,
     "metadata": {},
     "output_type": "execute_result"
    }
   ],
   "source": [
    "np.sum(arr4 ,axis =0)  # it calculating row  wise"
   ]
  },
  {
   "cell_type": "code",
   "execution_count": 109,
   "id": "fff25f0b-1663-4838-b872-4a52116519f2",
   "metadata": {},
   "outputs": [
    {
     "data": {
      "text/plain": [
       "array([ 6, 15,  6])"
      ]
     },
     "execution_count": 109,
     "metadata": {},
     "output_type": "execute_result"
    }
   ],
   "source": [
    "np.sum(arr4 ,axis =1)   # it calculating column  wise"
   ]
  },
  {
   "cell_type": "code",
   "execution_count": null,
   "id": "c421ac69-733d-41d9-a100-197001da9a18",
   "metadata": {},
   "outputs": [],
   "source": []
  },
  {
   "cell_type": "code",
   "execution_count": 110,
   "id": "f6e32bcb-2494-4b60-91b6-8fe3ea860add",
   "metadata": {},
   "outputs": [],
   "source": [
    "# Expand  Dimension --- increase the dimensions "
   ]
  },
  {
   "cell_type": "code",
   "execution_count": 111,
   "id": "2a24e7e7-7bf0-4eb6-b295-bd836e44a4f9",
   "metadata": {},
   "outputs": [],
   "source": [
    "# this Function expand the array by inserting a new axis"
   ]
  },
  {
   "cell_type": "code",
   "execution_count": null,
   "id": "d9839466-c8ed-4196-a0f6-4d922b5b3125",
   "metadata": {},
   "outputs": [],
   "source": []
  },
  {
   "cell_type": "code",
   "execution_count": 112,
   "id": "955b3d02-7f1d-4d77-aabc-1698b283c8a9",
   "metadata": {},
   "outputs": [],
   "source": [
    "arr5 =np.array([1,2,3,4])"
   ]
  },
  {
   "cell_type": "code",
   "execution_count": 113,
   "id": "a8eea356-b6b2-4a26-aa4c-22af5068defb",
   "metadata": {},
   "outputs": [
    {
     "data": {
      "text/plain": [
       "array([1, 2, 3, 4])"
      ]
     },
     "execution_count": 113,
     "metadata": {},
     "output_type": "execute_result"
    }
   ],
   "source": [
    "arr5"
   ]
  },
  {
   "cell_type": "code",
   "execution_count": 114,
   "id": "4333ead0-248d-4817-93cc-a1d3a3fa3730",
   "metadata": {},
   "outputs": [
    {
     "data": {
      "text/plain": [
       "1"
      ]
     },
     "execution_count": 114,
     "metadata": {},
     "output_type": "execute_result"
    }
   ],
   "source": [
    "arr5.ndim"
   ]
  },
  {
   "cell_type": "code",
   "execution_count": 119,
   "id": "26777839-5c87-4db9-9bf3-1199b0035e44",
   "metadata": {},
   "outputs": [],
   "source": [
    "arr6=np.expand_dims(arr5 ,axis =0)"
   ]
  },
  {
   "cell_type": "code",
   "execution_count": 120,
   "id": "4bdc076d-b8d1-4d93-a1d4-2598e9e40563",
   "metadata": {},
   "outputs": [
    {
     "data": {
      "text/plain": [
       "array([[1, 2, 3, 4]])"
      ]
     },
     "execution_count": 120,
     "metadata": {},
     "output_type": "execute_result"
    }
   ],
   "source": [
    "arr6"
   ]
  },
  {
   "cell_type": "code",
   "execution_count": 121,
   "id": "c4c14dfc-0f64-4d95-9f30-015081733e4f",
   "metadata": {},
   "outputs": [],
   "source": [
    "arr6=np.expand_dims(arr5 ,axis =1)"
   ]
  },
  {
   "cell_type": "code",
   "execution_count": 122,
   "id": "3972c2dd-45c7-4e4c-9cb9-7821305f8ec9",
   "metadata": {},
   "outputs": [
    {
     "data": {
      "text/plain": [
       "array([[1],\n",
       "       [2],\n",
       "       [3],\n",
       "       [4]])"
      ]
     },
     "execution_count": 122,
     "metadata": {},
     "output_type": "execute_result"
    }
   ],
   "source": [
    "arr6"
   ]
  },
  {
   "cell_type": "code",
   "execution_count": 123,
   "id": "7c34cf0f-b76d-4260-bc91-d908666e022a",
   "metadata": {},
   "outputs": [],
   "source": [
    "arr8 =np.zeros((3,4))"
   ]
  },
  {
   "cell_type": "code",
   "execution_count": 124,
   "id": "b05ce8d7-737f-493a-a90c-5ea082b1ede9",
   "metadata": {},
   "outputs": [
    {
     "data": {
      "text/plain": [
       "array([[0., 0., 0., 0.],\n",
       "       [0., 0., 0., 0.],\n",
       "       [0., 0., 0., 0.]])"
      ]
     },
     "execution_count": 124,
     "metadata": {},
     "output_type": "execute_result"
    }
   ],
   "source": [
    "arr8"
   ]
  },
  {
   "cell_type": "code",
   "execution_count": 126,
   "id": "62183541-8a5b-4154-b0e6-6d67a8f14ff2",
   "metadata": {},
   "outputs": [],
   "source": [
    "arr9=np.expand_dims(arr8 ,axis =0)"
   ]
  },
  {
   "cell_type": "code",
   "execution_count": 127,
   "id": "afefb6cb-f6bf-4c0a-adb9-97b6f12c7e72",
   "metadata": {},
   "outputs": [
    {
     "data": {
      "text/plain": [
       "array([[[0., 0., 0., 0.],\n",
       "        [0., 0., 0., 0.],\n",
       "        [0., 0., 0., 0.]]])"
      ]
     },
     "execution_count": 127,
     "metadata": {},
     "output_type": "execute_result"
    }
   ],
   "source": [
    "arr9"
   ]
  },
  {
   "cell_type": "code",
   "execution_count": null,
   "id": "c0c125b4-1df8-49c0-8214-356e6818c457",
   "metadata": {},
   "outputs": [],
   "source": []
  }
 ],
 "metadata": {
  "kernelspec": {
   "display_name": "Python 3 (ipykernel)",
   "language": "python",
   "name": "python3"
  },
  "language_info": {
   "codemirror_mode": {
    "name": "ipython",
    "version": 3
   },
   "file_extension": ".py",
   "mimetype": "text/x-python",
   "name": "python",
   "nbconvert_exporter": "python",
   "pygments_lexer": "ipython3",
   "version": "3.10.8"
  }
 },
 "nbformat": 4,
 "nbformat_minor": 5
}
