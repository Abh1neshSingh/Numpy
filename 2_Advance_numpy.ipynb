{
 "cells": [
  {
   "cell_type": "code",
   "execution_count": 1,
   "id": "bf6dbfa8-422d-4556-92ef-503ee6ab1125",
   "metadata": {},
   "outputs": [],
   "source": [
    "import numpy as np"
   ]
  },
  {
   "cell_type": "code",
   "execution_count": 2,
   "id": "053b6ee6-4873-4500-a2d1-573f29b9528d",
   "metadata": {},
   "outputs": [],
   "source": [
    "arr =np.ones((3,4))"
   ]
  },
  {
   "cell_type": "code",
   "execution_count": 3,
   "id": "e14a7c8b-2d7b-49e7-bee5-97cf958616d2",
   "metadata": {},
   "outputs": [
    {
     "data": {
      "text/plain": [
       "array([[1., 1., 1., 1.],\n",
       "       [1., 1., 1., 1.],\n",
       "       [1., 1., 1., 1.]])"
      ]
     },
     "execution_count": 3,
     "metadata": {},
     "output_type": "execute_result"
    }
   ],
   "source": [
    "arr"
   ]
  },
  {
   "cell_type": "code",
   "execution_count": 4,
   "id": "dddf98d5-de50-4c77-b180-4473eb90981c",
   "metadata": {},
   "outputs": [
    {
     "data": {
      "text/plain": [
       "array([[6., 6., 6., 6.],\n",
       "       [6., 6., 6., 6.],\n",
       "       [6., 6., 6., 6.]])"
      ]
     },
     "execution_count": 4,
     "metadata": {},
     "output_type": "execute_result"
    }
   ],
   "source": [
    "arr+5"
   ]
  },
  {
   "cell_type": "code",
   "execution_count": null,
   "id": "f5cd6980-2de3-4e13-a540-000aec33aab4",
   "metadata": {},
   "outputs": [],
   "source": []
  },
  {
   "cell_type": "code",
   "execution_count": 5,
   "id": "88feb756-3e5e-405a-ad8e-755db3d4b746",
   "metadata": {},
   "outputs": [
    {
     "data": {
      "text/plain": [
       "array([[4618441417868443648, 4618441417868443648, 4618441417868443648,\n",
       "        4618441417868443648],\n",
       "       [4618441417868443648, 4618441417868443648, 4618441417868443648,\n",
       "        4618441417868443648],\n",
       "       [4618441417868443648, 4618441417868443648, 4618441417868443648,\n",
       "        4618441417868443648]])"
      ]
     },
     "execution_count": 5,
     "metadata": {},
     "output_type": "execute_result"
    }
   ],
   "source": [
    "np.empty((3,4),int)\n",
    "#Return a new array of given shape and type, without initializing entries.\\\n",
    "# it give random value \n"
   ]
  },
  {
   "cell_type": "code",
   "execution_count": 6,
   "id": "be8a6003-f70a-42ea-a368-5a70c17ff0d6",
   "metadata": {},
   "outputs": [
    {
     "data": {
      "text/plain": [
       "array([[6., 6., 6., 6.],\n",
       "       [6., 6., 6., 6.],\n",
       "       [6., 6., 6., 6.]])"
      ]
     },
     "execution_count": 6,
     "metadata": {},
     "output_type": "execute_result"
    }
   ],
   "source": [
    "np.empty((3,4))"
   ]
  },
  {
   "cell_type": "code",
   "execution_count": 7,
   "id": "0991eeb4-0d91-434c-9ef8-781206542828",
   "metadata": {},
   "outputs": [
    {
     "data": {
      "text/plain": [
       "array([[4.65502575e-310, 0.00000000e+000, 0.00000000e+000,\n",
       "        0.00000000e+000],\n",
       "       [0.00000000e+000, 0.00000000e+000, 0.00000000e+000,\n",
       "        0.00000000e+000]])"
      ]
     },
     "execution_count": 7,
     "metadata": {},
     "output_type": "execute_result"
    }
   ],
   "source": [
    "np.empty((2,4))"
   ]
  },
  {
   "cell_type": "code",
   "execution_count": null,
   "id": "c1c898df-c9b7-493d-8c5c-0edea917ca85",
   "metadata": {},
   "outputs": [],
   "source": []
  },
  {
   "cell_type": "code",
   "execution_count": 8,
   "id": "70b7b754-c377-4a23-b131-b63f6243c0e0",
   "metadata": {},
   "outputs": [
    {
     "data": {
      "text/plain": [
       "array([[1, 0, 0, 0, 0],\n",
       "       [0, 1, 0, 0, 0],\n",
       "       [0, 0, 1, 0, 0],\n",
       "       [0, 0, 0, 1, 0],\n",
       "       [0, 0, 0, 0, 1]])"
      ]
     },
     "execution_count": 8,
     "metadata": {},
     "output_type": "execute_result"
    }
   ],
   "source": [
    "np.eye(5 ,dtype=int)# it give always n*n\n",
    "# Return a 2-D array with ones on the diagonal and zeros elsewhere.\n",
    "# its always give you a Square matrix \n",
    "# to calculate inverse of matrix"
   ]
  },
  {
   "cell_type": "code",
   "execution_count": null,
   "id": "c4b840ec-b557-4cf5-91fd-4a442c8c7e05",
   "metadata": {},
   "outputs": [],
   "source": []
  },
  {
   "cell_type": "code",
   "execution_count": 9,
   "id": "1d860ee7-5caf-4be3-a8ac-819a6f05184e",
   "metadata": {},
   "outputs": [
    {
     "data": {
      "text/plain": [
       "array([[1., 1., 1., 1.],\n",
       "       [1., 1., 1., 1.],\n",
       "       [1., 1., 1., 1.]])"
      ]
     },
     "execution_count": 9,
     "metadata": {},
     "output_type": "execute_result"
    }
   ],
   "source": [
    "arr"
   ]
  },
  {
   "cell_type": "code",
   "execution_count": null,
   "id": "20b3860a-a439-4c3a-9438-e9ab15ae1d17",
   "metadata": {},
   "outputs": [],
   "source": []
  },
  {
   "cell_type": "code",
   "execution_count": 10,
   "id": "3ab4ef8c-f28d-4dad-a065-bce80ffeddab",
   "metadata": {},
   "outputs": [],
   "source": [
    "import pandas as pd"
   ]
  },
  {
   "cell_type": "code",
   "execution_count": 11,
   "id": "535beae8-ed4f-4829-ad1f-347587e54093",
   "metadata": {},
   "outputs": [
    {
     "data": {
      "text/html": [
       "<div>\n",
       "<style scoped>\n",
       "    .dataframe tbody tr th:only-of-type {\n",
       "        vertical-align: middle;\n",
       "    }\n",
       "\n",
       "    .dataframe tbody tr th {\n",
       "        vertical-align: top;\n",
       "    }\n",
       "\n",
       "    .dataframe thead th {\n",
       "        text-align: right;\n",
       "    }\n",
       "</style>\n",
       "<table border=\"1\" class=\"dataframe\">\n",
       "  <thead>\n",
       "    <tr style=\"text-align: right;\">\n",
       "      <th></th>\n",
       "      <th>0</th>\n",
       "      <th>1</th>\n",
       "      <th>2</th>\n",
       "      <th>3</th>\n",
       "    </tr>\n",
       "  </thead>\n",
       "  <tbody>\n",
       "    <tr>\n",
       "      <th>0</th>\n",
       "      <td>1.0</td>\n",
       "      <td>1.0</td>\n",
       "      <td>1.0</td>\n",
       "      <td>1.0</td>\n",
       "    </tr>\n",
       "    <tr>\n",
       "      <th>1</th>\n",
       "      <td>1.0</td>\n",
       "      <td>1.0</td>\n",
       "      <td>1.0</td>\n",
       "      <td>1.0</td>\n",
       "    </tr>\n",
       "    <tr>\n",
       "      <th>2</th>\n",
       "      <td>1.0</td>\n",
       "      <td>1.0</td>\n",
       "      <td>1.0</td>\n",
       "      <td>1.0</td>\n",
       "    </tr>\n",
       "  </tbody>\n",
       "</table>\n",
       "</div>"
      ],
      "text/plain": [
       "     0    1    2    3\n",
       "0  1.0  1.0  1.0  1.0\n",
       "1  1.0  1.0  1.0  1.0\n",
       "2  1.0  1.0  1.0  1.0"
      ]
     },
     "execution_count": 11,
     "metadata": {},
     "output_type": "execute_result"
    }
   ],
   "source": [
    "pd.DataFrame(arr)# here we covert array into dataframe"
   ]
  },
  {
   "cell_type": "code",
   "execution_count": 12,
   "id": "91d7d756-a09b-4385-9cad-2d109b449be6",
   "metadata": {},
   "outputs": [],
   "source": [
    " # extra topic\n",
    "import random #it is a module in python"
   ]
  },
  {
   "cell_type": "code",
   "execution_count": 13,
   "id": "7b507c68-e5ed-45bc-a48d-b9bf54039ea2",
   "metadata": {},
   "outputs": [
    {
     "data": {
      "text/plain": [
       "5"
      ]
     },
     "execution_count": 13,
     "metadata": {},
     "output_type": "execute_result"
    }
   ],
   "source": [
    "random.choice((1,2,3,4,5,6))"
   ]
  },
  {
   "cell_type": "code",
   "execution_count": 14,
   "id": "840a6bd4-7d91-412a-932d-cbd7f277a3b2",
   "metadata": {},
   "outputs": [],
   "source": [
    "# above random.choice when we execute it every time\n",
    "# it gives different different output"
   ]
  },
  {
   "cell_type": "code",
   "execution_count": null,
   "id": "c95ed6c6-4b60-4835-9d0b-f9a7f4969097",
   "metadata": {},
   "outputs": [],
   "source": []
  },
  {
   "cell_type": "code",
   "execution_count": 15,
   "id": "bf5f349b-8ead-4461-9e1f-c0c14f264a6d",
   "metadata": {},
   "outputs": [
    {
     "data": {
      "text/plain": [
       "'h'"
      ]
     },
     "execution_count": 15,
     "metadata": {},
     "output_type": "execute_result"
    }
   ],
   "source": [
    "random.choice(\"Abhinesh\")"
   ]
  },
  {
   "cell_type": "code",
   "execution_count": null,
   "id": "ace93b39-7e76-417c-877b-fac1b3fe8506",
   "metadata": {},
   "outputs": [],
   "source": []
  },
  {
   "cell_type": "code",
   "execution_count": 16,
   "id": "d62366f8-7b1c-4269-80de-b6d4b00c8b88",
   "metadata": {},
   "outputs": [
    {
     "data": {
      "text/plain": [
       "6"
      ]
     },
     "execution_count": 16,
     "metadata": {},
     "output_type": "execute_result"
    }
   ],
   "source": [
    "random.randrange(1,15) # here random give data betweem 1 to 15"
   ]
  },
  {
   "cell_type": "code",
   "execution_count": 17,
   "id": "f4df8929-dd33-4f99-8412-2ecc78cc4d98",
   "metadata": {},
   "outputs": [
    {
     "data": {
      "text/plain": [
       "0.503767312740292"
      ]
     },
     "execution_count": 17,
     "metadata": {},
     "output_type": "execute_result"
    }
   ],
   "source": [
    "random.random() # it give random data between 0 and 1"
   ]
  },
  {
   "cell_type": "code",
   "execution_count": 18,
   "id": "8604e893-9687-4f47-8812-4ceb7101210b",
   "metadata": {},
   "outputs": [],
   "source": [
    "lists=[1,2,3,4,5]\n",
    "random.shuffle(lists)"
   ]
  },
  {
   "cell_type": "code",
   "execution_count": 19,
   "id": "500e305c-cbe6-4c73-9025-9ced4006955d",
   "metadata": {},
   "outputs": [
    {
     "data": {
      "text/plain": [
       "[3, 2, 1, 5, 4]"
      ]
     },
     "execution_count": 19,
     "metadata": {},
     "output_type": "execute_result"
    }
   ],
   "source": [
    "lists"
   ]
  },
  {
   "cell_type": "code",
   "execution_count": 20,
   "id": "1bf5b13f-7767-4fb7-b69a-28fdd909e796",
   "metadata": {},
   "outputs": [
    {
     "data": {
      "text/plain": [
       "9.568389976858203"
      ]
     },
     "execution_count": 20,
     "metadata": {},
     "output_type": "execute_result"
    }
   ],
   "source": [
    "random.uniform(7,14)"
   ]
  },
  {
   "cell_type": "code",
   "execution_count": null,
   "id": "9107c807-11d3-42f3-bf64-ed3b0722cdf3",
   "metadata": {},
   "outputs": [],
   "source": []
  },
  {
   "cell_type": "code",
   "execution_count": 21,
   "id": "4e3344cd-420f-4fed-a73b-2415da22abfd",
   "metadata": {},
   "outputs": [],
   "source": [
    "# random data given also by numpy but it is not use random library’s "
   ]
  },
  {
   "cell_type": "code",
   "execution_count": 22,
   "id": "2c63ffab-1eeb-40f1-a5ed-64ccbacc30cf",
   "metadata": {},
   "outputs": [
    {
     "data": {
      "text/plain": [
       "array([[0.91572925, 0.39781749, 0.01635511],\n",
       "       [0.56404144, 0.49804859, 0.60515886]])"
      ]
     },
     "execution_count": 22,
     "metadata": {},
     "output_type": "execute_result"
    }
   ],
   "source": [
    "np.random.rand(2,3) # random value generated in this array"
   ]
  },
  {
   "cell_type": "code",
   "execution_count": null,
   "id": "13f8da37-c076-451a-8c83-1d63b1781631",
   "metadata": {},
   "outputs": [],
   "source": []
  },
  {
   "cell_type": "code",
   "execution_count": 23,
   "id": "2a115625-c7a6-49e7-a8c4-4d6a3a176aa5",
   "metadata": {},
   "outputs": [
    {
     "data": {
      "text/plain": [
       "array([0.79363454])"
      ]
     },
     "execution_count": 23,
     "metadata": {},
     "output_type": "execute_result"
    }
   ],
   "source": [
    "np.random.rand(1)\n"
   ]
  },
  {
   "cell_type": "code",
   "execution_count": 24,
   "id": "ee933f05-65e4-416c-ac85-f85b303022a1",
   "metadata": {},
   "outputs": [
    {
     "ename": "NameError",
     "evalue": "name 'a' is not defined",
     "output_type": "error",
     "traceback": [
      "\u001b[0;31m---------------------------------------------------------------------------\u001b[0m",
      "\u001b[0;31mNameError\u001b[0m                                 Traceback (most recent call last)",
      "Cell \u001b[0;32mIn[24], line 1\u001b[0m\n\u001b[0;32m----> 1\u001b[0m \u001b[43ma\u001b[49m\n",
      "\u001b[0;31mNameError\u001b[0m: name 'a' is not defined"
     ]
    }
   ],
   "source": [
    "a"
   ]
  },
  {
   "cell_type": "code",
   "execution_count": null,
   "id": "1ac82fab-c141-4f9e-8a6f-ec7a93e2aae3",
   "metadata": {},
   "outputs": [],
   "source": [
    "np.random.rand(2,3)"
   ]
  },
  {
   "cell_type": "code",
   "execution_count": null,
   "id": "e1e62b6f-a43f-4ad4-b72c-78c6f20d8109",
   "metadata": {},
   "outputs": [],
   "source": []
  },
  {
   "cell_type": "code",
   "execution_count": 25,
   "id": "9ab53ab5-9ea5-498f-ab05-9536cc1520cd",
   "metadata": {},
   "outputs": [
    {
     "data": {
      "text/plain": [
       "array([[-0.29546888, -1.05009144, -1.7224637 ],\n",
       "       [ 1.24346224,  0.42309525,  0.21531171]])"
      ]
     },
     "execution_count": 25,
     "metadata": {},
     "output_type": "execute_result"
    }
   ],
   "source": [
    "np.random.randn(2,3) # it is random normal distribution "
   ]
  },
  {
   "cell_type": "code",
   "execution_count": null,
   "id": "41f914fe-5bc4-4ef4-81d6-0f453962093b",
   "metadata": {},
   "outputs": [],
   "source": []
  },
  {
   "cell_type": "code",
   "execution_count": 26,
   "id": "3d40657d-0e77-4522-8293-1a1df662ad76",
   "metadata": {},
   "outputs": [
    {
     "data": {
      "text/plain": [
       "0.42675315993343954"
      ]
     },
     "execution_count": 26,
     "metadata": {},
     "output_type": "execute_result"
    }
   ],
   "source": [
    "np.random.random_sample() # it gives random data between 0 and 1"
   ]
  },
  {
   "cell_type": "code",
   "execution_count": 27,
   "id": "4968ab59-37fb-4873-bc5c-79469b4a1263",
   "metadata": {},
   "outputs": [
    {
     "data": {
      "text/plain": [
       "array([[1, 3, 2, 3],\n",
       "       [3, 3, 1, 4],\n",
       "       [2, 2, 4, 2]])"
      ]
     },
     "execution_count": 27,
     "metadata": {},
     "output_type": "execute_result"
    }
   ],
   "source": [
    "np.random.randint(1,5,size=(3,4))"
   ]
  },
  {
   "cell_type": "code",
   "execution_count": null,
   "id": "1c390b03-261f-4b63-bd43-44c86dec7abd",
   "metadata": {},
   "outputs": [],
   "source": []
  },
  {
   "cell_type": "code",
   "execution_count": 28,
   "id": "a62de60b-fb75-4f1f-a9b1-17cc714b352a",
   "metadata": {},
   "outputs": [],
   "source": [
    "arr=np.random.randint(2,5,size=(2,3))"
   ]
  },
  {
   "cell_type": "code",
   "execution_count": 29,
   "id": "5f5b56a5-d8ee-45a9-ac61-5cfa13490882",
   "metadata": {},
   "outputs": [
    {
     "data": {
      "text/plain": [
       "array([[3, 4, 3],\n",
       "       [4, 3, 2]])"
      ]
     },
     "execution_count": 29,
     "metadata": {},
     "output_type": "execute_result"
    }
   ],
   "source": [
    "arr"
   ]
  },
  {
   "cell_type": "code",
   "execution_count": 30,
   "id": "a1d0f013-da7e-4286-a10a-ed8a61b242a9",
   "metadata": {},
   "outputs": [
    {
     "data": {
      "text/plain": [
       "6"
      ]
     },
     "execution_count": 30,
     "metadata": {},
     "output_type": "execute_result"
    }
   ],
   "source": [
    "arr.size\n"
   ]
  },
  {
   "cell_type": "code",
   "execution_count": 31,
   "id": "88956367-6e0d-4f57-813c-fa392a0a0308",
   "metadata": {},
   "outputs": [
    {
     "data": {
      "text/plain": [
       "(2, 3)"
      ]
     },
     "execution_count": 31,
     "metadata": {},
     "output_type": "execute_result"
    }
   ],
   "source": [
    "arr.shape"
   ]
  },
  {
   "cell_type": "code",
   "execution_count": 32,
   "id": "01c246e4-489a-4286-a5f6-e0395ef3ff2d",
   "metadata": {},
   "outputs": [
    {
     "data": {
      "text/plain": [
       "2"
      ]
     },
     "execution_count": 32,
     "metadata": {},
     "output_type": "execute_result"
    }
   ],
   "source": [
    "arr.ndim"
   ]
  },
  {
   "cell_type": "code",
   "execution_count": 33,
   "id": "05d0ed1f-5aa5-46f2-9840-53273d78ac2c",
   "metadata": {},
   "outputs": [
    {
     "data": {
      "text/plain": [
       "array([[3, 4, 3, 4, 3, 2]])"
      ]
     },
     "execution_count": 33,
     "metadata": {},
     "output_type": "execute_result"
    }
   ],
   "source": [
    "arr.reshape(1,6)"
   ]
  },
  {
   "cell_type": "code",
   "execution_count": 34,
   "id": "60b5f893-afd1-40e1-bbcc-629d90249cc8",
   "metadata": {},
   "outputs": [],
   "source": [
    "arrr=np.random.randint(1,9 , size=(6,4))"
   ]
  },
  {
   "cell_type": "code",
   "execution_count": 35,
   "id": "184c89d8-d010-4087-8dcc-edb5af0ff72b",
   "metadata": {},
   "outputs": [
    {
     "data": {
      "text/plain": [
       "array([[4, 2, 1, 4],\n",
       "       [4, 8, 5, 8],\n",
       "       [3, 5, 2, 1],\n",
       "       [3, 4, 6, 8],\n",
       "       [6, 7, 3, 5],\n",
       "       [1, 2, 5, 1]])"
      ]
     },
     "execution_count": 35,
     "metadata": {},
     "output_type": "execute_result"
    }
   ],
   "source": [
    "arrr\n"
   ]
  },
  {
   "cell_type": "code",
   "execution_count": 36,
   "id": "f9c2e319-5bd4-4bcc-b635-853ba6f4234a",
   "metadata": {},
   "outputs": [
    {
     "data": {
      "text/plain": [
       "24"
      ]
     },
     "execution_count": 36,
     "metadata": {},
     "output_type": "execute_result"
    }
   ],
   "source": [
    "arrr.size"
   ]
  },
  {
   "cell_type": "code",
   "execution_count": 37,
   "id": "a89775a1-1ac2-4a7f-b1de-f31ed8fb293d",
   "metadata": {},
   "outputs": [
    {
     "data": {
      "text/plain": [
       "array([[4, 2, 1, 4, 4, 8],\n",
       "       [5, 8, 3, 5, 2, 1],\n",
       "       [3, 4, 6, 8, 6, 7],\n",
       "       [3, 5, 1, 2, 5, 1]])"
      ]
     },
     "execution_count": 37,
     "metadata": {},
     "output_type": "execute_result"
    }
   ],
   "source": [
    "arrr.reshape(4,6)"
   ]
  },
  {
   "cell_type": "code",
   "execution_count": 38,
   "id": "3ff5e07e-5db8-409c-8856-5e80360e7b4e",
   "metadata": {},
   "outputs": [
    {
     "data": {
      "text/plain": [
       "array([[4, 2, 1, 4, 4, 8, 5, 8],\n",
       "       [3, 5, 2, 1, 3, 4, 6, 8],\n",
       "       [6, 7, 3, 5, 1, 2, 5, 1]])"
      ]
     },
     "execution_count": 38,
     "metadata": {},
     "output_type": "execute_result"
    }
   ],
   "source": [
    "arrr.reshape(3,8)"
   ]
  },
  {
   "cell_type": "code",
   "execution_count": 39,
   "id": "2b380047-7f2b-4580-9147-70bba2d40e99",
   "metadata": {},
   "outputs": [
    {
     "data": {
      "text/plain": [
       "array([[4, 2],\n",
       "       [1, 4],\n",
       "       [4, 8],\n",
       "       [5, 8],\n",
       "       [3, 5],\n",
       "       [2, 1],\n",
       "       [3, 4],\n",
       "       [6, 8],\n",
       "       [6, 7],\n",
       "       [3, 5],\n",
       "       [1, 2],\n",
       "       [5, 1]])"
      ]
     },
     "execution_count": 39,
     "metadata": {},
     "output_type": "execute_result"
    }
   ],
   "source": [
    "arrr.reshape(12,2)"
   ]
  },
  {
   "cell_type": "code",
   "execution_count": 40,
   "id": "d4f6f515-32e4-4267-a51a-c1ffc7ce6ec0",
   "metadata": {},
   "outputs": [
    {
     "data": {
      "text/plain": [
       "array([[4, 2, 1, 4, 4, 8, 5, 8, 3, 5, 2, 1],\n",
       "       [3, 4, 6, 8, 6, 7, 3, 5, 1, 2, 5, 1]])"
      ]
     },
     "execution_count": 40,
     "metadata": {},
     "output_type": "execute_result"
    }
   ],
   "source": [
    "arrr.reshape(2,12)"
   ]
  },
  {
   "cell_type": "code",
   "execution_count": 41,
   "id": "f3aedea8-adbf-45f7-bd9b-da5af6d2d553",
   "metadata": {},
   "outputs": [
    {
     "data": {
      "text/plain": [
       "array([[3, 4, 3],\n",
       "       [4, 3, 2]])"
      ]
     },
     "execution_count": 41,
     "metadata": {},
     "output_type": "execute_result"
    }
   ],
   "source": [
    "arr.reshape(2,-1)"
   ]
  },
  {
   "cell_type": "code",
   "execution_count": 42,
   "id": "327b8ff2-460b-4d50-9dba-24c5db2e6a53",
   "metadata": {},
   "outputs": [
    {
     "data": {
      "text/plain": [
       "array([[4, 2, 1, 4],\n",
       "       [4, 8, 5, 8],\n",
       "       [3, 5, 2, 1],\n",
       "       [3, 4, 6, 8],\n",
       "       [6, 7, 3, 5],\n",
       "       [1, 2, 5, 1]])"
      ]
     },
     "execution_count": 42,
     "metadata": {},
     "output_type": "execute_result"
    }
   ],
   "source": [
    "arrr.reshape(6,-1)"
   ]
  },
  {
   "cell_type": "code",
   "execution_count": null,
   "id": "94fe1e5a-7fb1-47b2-9968-d148f420f99f",
   "metadata": {},
   "outputs": [],
   "source": []
  },
  {
   "cell_type": "code",
   "execution_count": 43,
   "id": "42e90cfe-5f66-498d-ad37-72a8352c042b",
   "metadata": {},
   "outputs": [
    {
     "data": {
      "text/plain": [
       "array([[4, 2, 1, 4, 4, 8],\n",
       "       [5, 8, 3, 5, 2, 1],\n",
       "       [3, 4, 6, 8, 6, 7],\n",
       "       [3, 5, 1, 2, 5, 1]])"
      ]
     },
     "execution_count": 43,
     "metadata": {},
     "output_type": "execute_result"
    }
   ],
   "source": [
    "arrr.reshape(-1,6)"
   ]
  },
  {
   "cell_type": "code",
   "execution_count": 44,
   "id": "c928a8b6-0f95-4d17-acfb-d938b9cca1be",
   "metadata": {},
   "outputs": [
    {
     "data": {
      "text/plain": [
       "array([[4, 2, 1, 4],\n",
       "       [4, 8, 5, 8],\n",
       "       [3, 5, 2, 1],\n",
       "       [3, 4, 6, 8],\n",
       "       [6, 7, 3, 5],\n",
       "       [1, 2, 5, 1]])"
      ]
     },
     "execution_count": 44,
     "metadata": {},
     "output_type": "execute_result"
    }
   ],
   "source": [
    "arrr.reshape(3,8).base"
   ]
  },
  {
   "cell_type": "code",
   "execution_count": 45,
   "id": "fe7f80de-54cf-4de5-a1c5-f15080dcefc6",
   "metadata": {},
   "outputs": [
    {
     "data": {
      "text/plain": [
       "array([[4, 2, 1, 4],\n",
       "       [4, 8, 5, 8],\n",
       "       [3, 5, 2, 1],\n",
       "       [3, 4, 6, 8],\n",
       "       [6, 7, 3, 5],\n",
       "       [1, 2, 5, 1]])"
      ]
     },
     "execution_count": 45,
     "metadata": {},
     "output_type": "execute_result"
    }
   ],
   "source": [
    "arrr.reshape(6,4)"
   ]
  },
  {
   "cell_type": "code",
   "execution_count": 46,
   "id": "ad2f3950-5ba6-41f8-bcb2-1fd025c8ca83",
   "metadata": {},
   "outputs": [
    {
     "data": {
      "text/plain": [
       "array([[4, 2, 1, 4],\n",
       "       [4, 8, 5, 8],\n",
       "       [3, 5, 2, 1],\n",
       "       [3, 4, 6, 8],\n",
       "       [6, 7, 3, 5],\n",
       "       [1, 2, 5, 1]])"
      ]
     },
     "execution_count": 46,
     "metadata": {},
     "output_type": "execute_result"
    }
   ],
   "source": [
    "arrr.reshape(3,8).base"
   ]
  },
  {
   "cell_type": "code",
   "execution_count": 47,
   "id": "0445a6fd-2b41-4d21-9b72-ea150aa74ff9",
   "metadata": {},
   "outputs": [
    {
     "data": {
      "text/plain": [
       "array([[4, 2, 1, 4],\n",
       "       [4, 8, 5, 8],\n",
       "       [3, 5, 2, 1],\n",
       "       [3, 4, 6, 8],\n",
       "       [6, 7, 3, 5],\n",
       "       [1, 2, 5, 1]])"
      ]
     },
     "execution_count": 47,
     "metadata": {},
     "output_type": "execute_result"
    }
   ],
   "source": [
    "arrr.reshape(12,2).base"
   ]
  },
  {
   "cell_type": "code",
   "execution_count": 48,
   "id": "c311b2a1-9ff4-4954-807f-7bf0aef34c73",
   "metadata": {},
   "outputs": [],
   "source": [
    "# .base retrieves the base object of the reshaped array.\n",
    "# The .base attribute in NumPy is used to access the original object that \n",
    "# shares the same data. If the array is a view of another array, .base \n",
    "# returns that original array; otherwise, it returns None."
   ]
  },
  {
   "cell_type": "code",
   "execution_count": null,
   "id": "a1a6b605-807c-48db-bd89-3c6245c80438",
   "metadata": {},
   "outputs": [],
   "source": []
  },
  {
   "cell_type": "code",
   "execution_count": 49,
   "id": "56da69ab-25f4-46f9-904e-41f952607cd0",
   "metadata": {},
   "outputs": [
    {
     "data": {
      "text/plain": [
       "array([[[4, 2, 1],\n",
       "        [4, 4, 8],\n",
       "        [5, 8, 3],\n",
       "        [5, 2, 1]],\n",
       "\n",
       "       [[3, 4, 6],\n",
       "        [8, 6, 7],\n",
       "        [3, 5, 1],\n",
       "        [2, 5, 1]]])"
      ]
     },
     "execution_count": 49,
     "metadata": {},
     "output_type": "execute_result"
    }
   ],
   "source": [
    "arrr.reshape(2,4,3)"
   ]
  },
  {
   "cell_type": "code",
   "execution_count": 50,
   "id": "ef5c6e68-9777-4cf7-96fb-9df0d2d0e843",
   "metadata": {},
   "outputs": [
    {
     "data": {
      "text/plain": [
       "2"
      ]
     },
     "execution_count": 50,
     "metadata": {},
     "output_type": "execute_result"
    }
   ],
   "source": [
    "arrr.ndim"
   ]
  },
  {
   "cell_type": "code",
   "execution_count": 51,
   "id": "f290d3a4-fe9e-42bd-b1f9-97946caed337",
   "metadata": {},
   "outputs": [],
   "source": [
    "new_arr=np.random.randint(1,9,size=(2,3,4))"
   ]
  },
  {
   "cell_type": "code",
   "execution_count": 52,
   "id": "8621f6e8-df04-462d-9164-27fb8aa10281",
   "metadata": {},
   "outputs": [
    {
     "data": {
      "text/plain": [
       "array([[[6, 1, 7, 3],\n",
       "        [3, 4, 6, 4],\n",
       "        [2, 8, 3, 4]],\n",
       "\n",
       "       [[2, 6, 7, 2],\n",
       "        [5, 5, 5, 8],\n",
       "        [4, 6, 8, 4]]])"
      ]
     },
     "execution_count": 52,
     "metadata": {},
     "output_type": "execute_result"
    }
   ],
   "source": [
    "new_arr"
   ]
  },
  {
   "cell_type": "code",
   "execution_count": 53,
   "id": "96184c4c-bb5f-43fe-a025-74df5bf9eee6",
   "metadata": {},
   "outputs": [
    {
     "data": {
      "text/plain": [
       "array([[[6, 1],\n",
       "        [7, 3],\n",
       "        [3, 4],\n",
       "        [6, 4],\n",
       "        [2, 8],\n",
       "        [3, 4]],\n",
       "\n",
       "       [[2, 6],\n",
       "        [7, 2],\n",
       "        [5, 5],\n",
       "        [5, 8],\n",
       "        [4, 6],\n",
       "        [8, 4]]])"
      ]
     },
     "execution_count": 53,
     "metadata": {},
     "output_type": "execute_result"
    }
   ],
   "source": [
    "new_arr.reshape(2,6,2)"
   ]
  },
  {
   "cell_type": "code",
   "execution_count": 54,
   "id": "4779443e-7d9f-4ed3-9a86-b97207cbc343",
   "metadata": {},
   "outputs": [
    {
     "data": {
      "text/plain": [
       "array([[[6, 1, 7],\n",
       "        [3, 3, 4],\n",
       "        [6, 4, 2],\n",
       "        [8, 3, 4]],\n",
       "\n",
       "       [[2, 6, 7],\n",
       "        [2, 5, 5],\n",
       "        [5, 8, 4],\n",
       "        [6, 8, 4]]])"
      ]
     },
     "execution_count": 54,
     "metadata": {},
     "output_type": "execute_result"
    }
   ],
   "source": [
    "new_arr.reshape(2,4,3)"
   ]
  },
  {
   "cell_type": "code",
   "execution_count": 55,
   "id": "4aca8742-b040-476e-aa7d-7524df3fc496",
   "metadata": {},
   "outputs": [
    {
     "data": {
      "text/plain": [
       "array([[[[6, 1],\n",
       "         [7, 3],\n",
       "         [3, 4]],\n",
       "\n",
       "        [[6, 4],\n",
       "         [2, 8],\n",
       "         [3, 4]]],\n",
       "\n",
       "\n",
       "       [[[2, 6],\n",
       "         [7, 2],\n",
       "         [5, 5]],\n",
       "\n",
       "        [[5, 8],\n",
       "         [4, 6],\n",
       "         [8, 4]]]])"
      ]
     },
     "execution_count": 55,
     "metadata": {},
     "output_type": "execute_result"
    }
   ],
   "source": [
    "new_arr.reshape(2,2,3,2)"
   ]
  },
  {
   "cell_type": "code",
   "execution_count": null,
   "id": "d053e164-cdcb-426f-97f2-8c5dd3bca23b",
   "metadata": {},
   "outputs": [],
   "source": []
  },
  {
   "cell_type": "code",
   "execution_count": 56,
   "id": "de8f8dbc-b096-44ff-871f-627714461154",
   "metadata": {},
   "outputs": [],
   "source": [
    "arr1=np.random.randint(1,10,(5,6))"
   ]
  },
  {
   "cell_type": "code",
   "execution_count": 57,
   "id": "97f936c5-af71-4d10-b6b2-fefd07eb3d64",
   "metadata": {},
   "outputs": [
    {
     "data": {
      "text/plain": [
       "array([[1, 9, 4, 9, 6, 8],\n",
       "       [6, 6, 9, 4, 6, 3],\n",
       "       [4, 1, 5, 3, 8, 9],\n",
       "       [2, 9, 7, 3, 8, 5],\n",
       "       [4, 3, 7, 6, 7, 6]])"
      ]
     },
     "execution_count": 57,
     "metadata": {},
     "output_type": "execute_result"
    }
   ],
   "source": [
    "arr1"
   ]
  },
  {
   "cell_type": "code",
   "execution_count": 58,
   "id": "dca7c51f-ac5b-49ce-8eeb-5bfcde5d133c",
   "metadata": {},
   "outputs": [
    {
     "data": {
      "text/plain": [
       "array([[False,  True, False,  True,  True,  True],\n",
       "       [ True,  True,  True, False,  True, False],\n",
       "       [False, False, False, False,  True,  True],\n",
       "       [False,  True,  True, False,  True, False],\n",
       "       [False, False,  True,  True,  True,  True]])"
      ]
     },
     "execution_count": 58,
     "metadata": {},
     "output_type": "execute_result"
    }
   ],
   "source": [
    "arr1>5 # use for filter\n",
    "       #it give true false accoding to condition\n"
   ]
  },
  {
   "cell_type": "code",
   "execution_count": 59,
   "id": "b6783717-450f-4297-b290-0ab858861e67",
   "metadata": {},
   "outputs": [
    {
     "data": {
      "text/plain": [
       "array([9, 9, 6, 8, 6, 6, 9, 6, 8, 9, 9, 7, 8, 7, 6, 7, 6])"
      ]
     },
     "execution_count": 59,
     "metadata": {},
     "output_type": "execute_result"
    }
   ],
   "source": [
    "arr1[arr1>5] # use for filter\n",
    "            # it give me all the value in array where condition is true"
   ]
  },
  {
   "cell_type": "code",
   "execution_count": null,
   "id": "dc6c62e7-ae83-459b-be1a-c847a6d0943f",
   "metadata": {},
   "outputs": [],
   "source": []
  },
  {
   "cell_type": "code",
   "execution_count": 60,
   "id": "343aa2e2-96f0-4249-9009-d1c6321ea814",
   "metadata": {},
   "outputs": [
    {
     "data": {
      "text/plain": [
       "array([1, 4, 4, 3, 4, 1, 3, 2, 3, 4, 3])"
      ]
     },
     "execution_count": 60,
     "metadata": {},
     "output_type": "execute_result"
    }
   ],
   "source": [
    "arr1[arr1 < 5]"
   ]
  },
  {
   "cell_type": "code",
   "execution_count": null,
   "id": "d32ee6a5-aec1-4514-a39d-e01a91733f21",
   "metadata": {},
   "outputs": [],
   "source": []
  },
  {
   "cell_type": "code",
   "execution_count": null,
   "id": "fc46ce0d-7e54-4707-9074-d4d9ca96bdab",
   "metadata": {},
   "outputs": [],
   "source": []
  },
  {
   "cell_type": "code",
   "execution_count": 62,
   "id": "b9b73288-2936-4cd1-949e-b43bdb6723cf",
   "metadata": {},
   "outputs": [
    {
     "data": {
      "text/plain": [
       "array([[1, 9, 4, 9, 6, 8],\n",
       "       [6, 6, 9, 4, 6, 3],\n",
       "       [4, 1, 5, 3, 8, 9],\n",
       "       [2, 9, 7, 3, 8, 5],\n",
       "       [4, 3, 7, 6, 7, 6]])"
      ]
     },
     "execution_count": 62,
     "metadata": {},
     "output_type": "execute_result"
    }
   ],
   "source": [
    "arr1"
   ]
  },
  {
   "cell_type": "code",
   "execution_count": 70,
   "id": "2c26591e-c8de-491f-99b4-d9cf5118feaf",
   "metadata": {},
   "outputs": [
    {
     "data": {
      "text/plain": [
       "array([1, 9, 4, 9, 6, 8])"
      ]
     },
     "execution_count": 70,
     "metadata": {},
     "output_type": "execute_result"
    }
   ],
   "source": [
    "arr1[0] # for aceess a particular row"
   ]
  },
  {
   "cell_type": "code",
   "execution_count": 71,
   "id": "8ce99833-cfeb-4c14-a01b-4a8f8e0533a9",
   "metadata": {},
   "outputs": [
    {
     "data": {
      "text/plain": [
       "9"
      ]
     },
     "execution_count": 71,
     "metadata": {},
     "output_type": "execute_result"
    }
   ],
   "source": [
    "arr1[3][1] # for access a particular element"
   ]
  },
  {
   "cell_type": "code",
   "execution_count": 72,
   "id": "e963968f-9460-4237-bd2b-80894857bfe9",
   "metadata": {},
   "outputs": [
    {
     "data": {
      "text/plain": [
       "array([[1, 9, 4, 9, 6, 8],\n",
       "       [6, 6, 9, 4, 6, 3],\n",
       "       [4, 1, 5, 3, 8, 9],\n",
       "       [2, 9, 7, 3, 8, 5],\n",
       "       [4, 3, 7, 6, 7, 6]])"
      ]
     },
     "execution_count": 72,
     "metadata": {},
     "output_type": "execute_result"
    }
   ],
   "source": [
    "arr1"
   ]
  },
  {
   "cell_type": "code",
   "execution_count": 79,
   "id": "8af48cc1-93a4-4eac-bae3-c9f4080c6ab9",
   "metadata": {},
   "outputs": [
    {
     "data": {
      "text/plain": [
       "array([9, 9])"
      ]
     },
     "execution_count": 79,
     "metadata": {},
     "output_type": "execute_result"
    }
   ],
   "source": [
    "# for access a particular column\n",
    "arr1[0 , [1,3]]"
   ]
  },
  {
   "cell_type": "code",
   "execution_count": 80,
   "id": "5f0981b5-58b7-484e-acdc-898dcd640502",
   "metadata": {},
   "outputs": [
    {
     "data": {
      "text/plain": [
       "array([[4, 1, 5, 3, 8, 9],\n",
       "       [2, 9, 7, 3, 8, 5]])"
      ]
     },
     "execution_count": 80,
     "metadata": {},
     "output_type": "execute_result"
    }
   ],
   "source": [
    "arr1[2:4]"
   ]
  },
  {
   "cell_type": "code",
   "execution_count": 81,
   "id": "80565471-b4eb-4546-acf8-a31235b67891",
   "metadata": {},
   "outputs": [
    {
     "data": {
      "text/plain": [
       "array([[4, 1, 5, 3, 8, 9],\n",
       "       [2, 9, 7, 3, 8, 5],\n",
       "       [4, 3, 7, 6, 7, 6]])"
      ]
     },
     "execution_count": 81,
     "metadata": {},
     "output_type": "execute_result"
    }
   ],
   "source": [
    "arr1[2:5]"
   ]
  },
  {
   "cell_type": "code",
   "execution_count": 86,
   "id": "889057d9-d432-4a3d-b975-89589e571960",
   "metadata": {},
   "outputs": [
    {
     "data": {
      "text/plain": [
       "array([[4, 5],\n",
       "       [2, 7]])"
      ]
     },
     "execution_count": 86,
     "metadata": {},
     "output_type": "execute_result"
    }
   ],
   "source": [
    "arr1[2:4,[0,2]]"
   ]
  },
  {
   "cell_type": "code",
   "execution_count": null,
   "id": "5bb50307-4b1a-48d3-89e1-5120ca31058b",
   "metadata": {},
   "outputs": [],
   "source": []
  },
  {
   "cell_type": "code",
   "execution_count": 87,
   "id": "ada46afe-4f1b-40be-8a2e-1596c9c4f0ed",
   "metadata": {},
   "outputs": [
    {
     "data": {
      "text/plain": [
       "array([[1, 9, 4, 9, 6, 8],\n",
       "       [6, 6, 9, 4, 6, 3],\n",
       "       [4, 1, 5, 3, 8, 9],\n",
       "       [2, 9, 7, 3, 8, 5],\n",
       "       [4, 3, 7, 6, 7, 6]])"
      ]
     },
     "execution_count": 87,
     "metadata": {},
     "output_type": "execute_result"
    }
   ],
   "source": [
    "arr1"
   ]
  },
  {
   "cell_type": "code",
   "execution_count": 88,
   "id": "3628ddfa-587d-4e85-bc22-0c1efb4c2241",
   "metadata": {},
   "outputs": [
    {
     "data": {
      "text/plain": [
       "array([1, 9, 4, 9, 6, 8])"
      ]
     },
     "execution_count": 88,
     "metadata": {},
     "output_type": "execute_result"
    }
   ],
   "source": [
    "arr1[0]"
   ]
  },
  {
   "cell_type": "code",
   "execution_count": 89,
   "id": "e0433720-5a1d-432f-adbb-56959bdaa8e0",
   "metadata": {},
   "outputs": [
    {
     "data": {
      "text/plain": [
       "array([[4, 1],\n",
       "       [2, 9],\n",
       "       [4, 3]])"
      ]
     },
     "execution_count": 89,
     "metadata": {},
     "output_type": "execute_result"
    }
   ],
   "source": [
    "arr1[2:5, 0:2] # slicing"
   ]
  },
  {
   "cell_type": "code",
   "execution_count": 92,
   "id": "f7f0d64f-f206-406b-8a2b-b9b154368526",
   "metadata": {},
   "outputs": [
    {
     "data": {
      "text/plain": [
       "array([5, 3, 8])"
      ]
     },
     "execution_count": 92,
     "metadata": {},
     "output_type": "execute_result"
    }
   ],
   "source": [
    "arr1[2,2:5]"
   ]
  },
  {
   "cell_type": "code",
   "execution_count": 93,
   "id": "2017327f-33ab-43cd-b3a2-6f836bcd4778",
   "metadata": {},
   "outputs": [
    {
     "data": {
      "text/plain": [
       "array([4, 7])"
      ]
     },
     "execution_count": 93,
     "metadata": {},
     "output_type": "execute_result"
    }
   ],
   "source": [
    "arr1[[2,4],[0,2]]"
   ]
  },
  {
   "cell_type": "code",
   "execution_count": 96,
   "id": "b36507ef-d62b-4c66-b535-058e7636e826",
   "metadata": {},
   "outputs": [
    {
     "data": {
      "text/plain": [
       "array([8, 7])"
      ]
     },
     "execution_count": 96,
     "metadata": {},
     "output_type": "execute_result"
    }
   ],
   "source": [
    "arr1[[3,4],[4,4]] # select specific row of data"
   ]
  },
  {
   "cell_type": "code",
   "execution_count": 100,
   "id": "a7e0f598-92df-4bf4-9cfc-a361d963869c",
   "metadata": {},
   "outputs": [
    {
     "data": {
      "text/plain": [
       "array([[4, 1, 5, 3, 8, 9],\n",
       "       [4, 3, 7, 6, 7, 6]])"
      ]
     },
     "execution_count": 100,
     "metadata": {},
     "output_type": "execute_result"
    }
   ],
   "source": [
    "arr1[[2,4]]# selecting specific column"
   ]
  },
  {
   "cell_type": "code",
   "execution_count": 101,
   "id": "2d9958f3-6ec4-4b00-8b31-aec3beba2b1a",
   "metadata": {},
   "outputs": [
    {
     "data": {
      "text/plain": [
       "array([[4, 1, 5, 3, 8, 9],\n",
       "       [2, 9, 7, 3, 8, 5]])"
      ]
     },
     "execution_count": 101,
     "metadata": {},
     "output_type": "execute_result"
    }
   ],
   "source": [
    "arr1[2:4] # slicing"
   ]
  },
  {
   "cell_type": "code",
   "execution_count": null,
   "id": "e82220ce-1164-49c2-9eae-80e9c4b8fdd4",
   "metadata": {},
   "outputs": [],
   "source": []
  },
  {
   "cell_type": "code",
   "execution_count": null,
   "id": "3a300544-9d9b-49cc-9c9c-fb29dff036ac",
   "metadata": {},
   "outputs": [],
   "source": []
  },
  {
   "cell_type": "code",
   "execution_count": 108,
   "id": "82b7d64b-f525-47dd-b039-1fb55f6a108b",
   "metadata": {},
   "outputs": [],
   "source": [
    "# add ,sub, multi, divide two array"
   ]
  },
  {
   "cell_type": "code",
   "execution_count": 109,
   "id": "527ed10f-bc80-48b2-aba5-baa7e4614f77",
   "metadata": {},
   "outputs": [],
   "source": [
    "arr2 =np.random.randint(1,3, (3,3))\n",
    "arr3 =np.random.randint(1,3, (3,3))"
   ]
  },
  {
   "cell_type": "code",
   "execution_count": 110,
   "id": "272e258a-ba80-4222-a202-5fa9ed8e715f",
   "metadata": {},
   "outputs": [
    {
     "data": {
      "text/plain": [
       "array([[1, 1, 1],\n",
       "       [2, 1, 1],\n",
       "       [2, 2, 2]])"
      ]
     },
     "execution_count": 110,
     "metadata": {},
     "output_type": "execute_result"
    }
   ],
   "source": [
    "arr2"
   ]
  },
  {
   "cell_type": "code",
   "execution_count": 111,
   "id": "60b2c947-02f6-449a-92d4-f245fd89dcda",
   "metadata": {},
   "outputs": [
    {
     "data": {
      "text/plain": [
       "array([[2, 2, 2],\n",
       "       [1, 1, 2],\n",
       "       [1, 2, 1]])"
      ]
     },
     "execution_count": 111,
     "metadata": {},
     "output_type": "execute_result"
    }
   ],
   "source": [
    "arr3"
   ]
  },
  {
   "cell_type": "code",
   "execution_count": 112,
   "id": "f5bd7304-ce79-4303-9fc0-a7c703b57523",
   "metadata": {},
   "outputs": [
    {
     "data": {
      "text/plain": [
       "array([[3, 3, 3],\n",
       "       [3, 2, 3],\n",
       "       [3, 4, 3]])"
      ]
     },
     "execution_count": 112,
     "metadata": {},
     "output_type": "execute_result"
    }
   ],
   "source": [
    "arr2+arr3"
   ]
  },
  {
   "cell_type": "code",
   "execution_count": 113,
   "id": "effd13cc-fa49-462b-aa8f-e99e4b4740d0",
   "metadata": {},
   "outputs": [
    {
     "data": {
      "text/plain": [
       "array([[-1, -1, -1],\n",
       "       [ 1,  0, -1],\n",
       "       [ 1,  0,  1]])"
      ]
     },
     "execution_count": 113,
     "metadata": {},
     "output_type": "execute_result"
    }
   ],
   "source": [
    "arr2-arr3"
   ]
  },
  {
   "cell_type": "code",
   "execution_count": 114,
   "id": "b5ea94a5-7391-4bbe-b3f3-c5b74bcafc1a",
   "metadata": {},
   "outputs": [
    {
     "data": {
      "text/plain": [
       "array([[2, 2, 2],\n",
       "       [2, 1, 2],\n",
       "       [2, 4, 2]])"
      ]
     },
     "execution_count": 114,
     "metadata": {},
     "output_type": "execute_result"
    }
   ],
   "source": [
    "arr2*arr3"
   ]
  },
  {
   "cell_type": "code",
   "execution_count": 115,
   "id": "cbd24508-7ad4-4874-9c02-423759c760eb",
   "metadata": {},
   "outputs": [
    {
     "data": {
      "text/plain": [
       "array([[0.5, 0.5, 0.5],\n",
       "       [2. , 1. , 0.5],\n",
       "       [2. , 1. , 2. ]])"
      ]
     },
     "execution_count": 115,
     "metadata": {},
     "output_type": "execute_result"
    }
   ],
   "source": [
    "arr2/arr3"
   ]
  },
  {
   "cell_type": "code",
   "execution_count": 116,
   "id": "da0da505-c2e2-4df4-b1d8-13c176d15273",
   "metadata": {},
   "outputs": [],
   "source": [
    "# this is index wise add , sub , multi, div"
   ]
  },
  {
   "cell_type": "code",
   "execution_count": null,
   "id": "ca55180b-120a-4f7c-9fea-5d77ff236448",
   "metadata": {},
   "outputs": [],
   "source": []
  },
  {
   "cell_type": "code",
   "execution_count": null,
   "id": "a0a22956-afa5-41e2-8831-fa8861b71453",
   "metadata": {},
   "outputs": [],
   "source": [
    "\n"
   ]
  },
  {
   "cell_type": "code",
   "execution_count": 117,
   "id": "f769aa65-b06e-4543-8825-8cdfe04b9d1a",
   "metadata": {},
   "outputs": [],
   "source": [
    "# matrix multiplication"
   ]
  },
  {
   "cell_type": "code",
   "execution_count": 118,
   "id": "be5ab94f-289f-4656-9691-d140b679791c",
   "metadata": {},
   "outputs": [
    {
     "data": {
      "text/plain": [
       "array([[1, 1, 1],\n",
       "       [2, 1, 1],\n",
       "       [2, 2, 2]])"
      ]
     },
     "execution_count": 118,
     "metadata": {},
     "output_type": "execute_result"
    }
   ],
   "source": [
    "arr2"
   ]
  },
  {
   "cell_type": "code",
   "execution_count": 119,
   "id": "bde9a66e-ebd0-413e-a575-06f16dc61a62",
   "metadata": {},
   "outputs": [
    {
     "data": {
      "text/plain": [
       "array([[2, 2, 2],\n",
       "       [1, 1, 2],\n",
       "       [1, 2, 1]])"
      ]
     },
     "execution_count": 119,
     "metadata": {},
     "output_type": "execute_result"
    }
   ],
   "source": [
    "arr3"
   ]
  },
  {
   "cell_type": "code",
   "execution_count": 121,
   "id": "db81061b-7ca7-4d9e-86fd-32c9ac4293a0",
   "metadata": {},
   "outputs": [
    {
     "data": {
      "text/plain": [
       "array([[ 4,  5,  5],\n",
       "       [ 6,  7,  7],\n",
       "       [ 8, 10, 10]])"
      ]
     },
     "execution_count": 121,
     "metadata": {},
     "output_type": "execute_result"
    }
   ],
   "source": [
    "arr2 @ arr3  # matrix multiplication\n",
    "\n"
   ]
  },
  {
   "cell_type": "code",
   "execution_count": null,
   "id": "b9ba4386-1b4c-4f06-be54-3ba97030b47d",
   "metadata": {},
   "outputs": [],
   "source": []
  },
  {
   "cell_type": "code",
   "execution_count": 129,
   "id": "43a8231e-dec0-47ff-81af-bac4c562a79c",
   "metadata": {},
   "outputs": [],
   "source": [
    "# 1--> M x N     2-->  P x Q   if N=P then it will multiple"
   ]
  },
  {
   "cell_type": "code",
   "execution_count": 130,
   "id": "436347a9-bc3a-45f5-beff-a62e17b54e5e",
   "metadata": {},
   "outputs": [],
   "source": [
    "arr4=np.random.randint(1,3,(3,4))"
   ]
  },
  {
   "cell_type": "code",
   "execution_count": 131,
   "id": "059e8407-e269-4d45-a430-e1ac565ac825",
   "metadata": {},
   "outputs": [],
   "source": [
    "arr5=np.random.randint(1,3,(4,5))"
   ]
  },
  {
   "cell_type": "code",
   "execution_count": 132,
   "id": "d1f7542c-1eb7-489c-8b20-79c7c21a55e5",
   "metadata": {},
   "outputs": [
    {
     "data": {
      "text/plain": [
       "array([[1, 1, 1, 2],\n",
       "       [1, 1, 1, 1],\n",
       "       [2, 2, 2, 1]])"
      ]
     },
     "execution_count": 132,
     "metadata": {},
     "output_type": "execute_result"
    }
   ],
   "source": [
    "arr4"
   ]
  },
  {
   "cell_type": "code",
   "execution_count": 133,
   "id": "bce19159-bdee-41b0-8fee-9a96df60fc28",
   "metadata": {},
   "outputs": [
    {
     "data": {
      "text/plain": [
       "array([[1, 2, 1, 1, 2],\n",
       "       [2, 1, 2, 2, 1],\n",
       "       [1, 1, 1, 1, 1],\n",
       "       [1, 2, 2, 1, 2]])"
      ]
     },
     "execution_count": 133,
     "metadata": {},
     "output_type": "execute_result"
    }
   ],
   "source": [
    "arr5"
   ]
  },
  {
   "cell_type": "code",
   "execution_count": 134,
   "id": "43a3d196-f885-4f7c-9fbc-f9e3cae7bbfd",
   "metadata": {},
   "outputs": [
    {
     "data": {
      "text/plain": [
       "array([[ 6,  8,  8,  6,  8],\n",
       "       [ 5,  6,  6,  5,  6],\n",
       "       [ 9, 10, 10,  9, 10]])"
      ]
     },
     "execution_count": 134,
     "metadata": {},
     "output_type": "execute_result"
    }
   ],
   "source": [
    "arr4 @ arr5"
   ]
  },
  {
   "cell_type": "code",
   "execution_count": null,
   "id": "4101bd0e-ff71-4949-8ef0-4985d99b8b6d",
   "metadata": {},
   "outputs": [],
   "source": []
  },
  {
   "cell_type": "code",
   "execution_count": null,
   "id": "c0012f31-fbe6-4b13-adb7-f843bc0646a2",
   "metadata": {},
   "outputs": [],
   "source": []
  },
  {
   "cell_type": "code",
   "execution_count": 135,
   "id": "1c21d314-d874-40bc-ac71-636cf17f5ea5",
   "metadata": {},
   "outputs": [
    {
     "data": {
      "text/plain": [
       "array([[1, 9, 4, 9, 6, 8],\n",
       "       [6, 6, 9, 4, 6, 3],\n",
       "       [4, 1, 5, 3, 8, 9],\n",
       "       [2, 9, 7, 3, 8, 5],\n",
       "       [4, 3, 7, 6, 7, 6]])"
      ]
     },
     "execution_count": 135,
     "metadata": {},
     "output_type": "execute_result"
    }
   ],
   "source": [
    "arr1"
   ]
  },
  {
   "cell_type": "code",
   "execution_count": 136,
   "id": "1c319b94-aa20-46aa-bb4f-4973e471844f",
   "metadata": {},
   "outputs": [
    {
     "name": "stderr",
     "output_type": "stream",
     "text": [
      "/tmp/ipykernel_78/1510032488.py:1: RuntimeWarning: divide by zero encountered in divide\n",
      "  arr1/0\n"
     ]
    },
    {
     "data": {
      "text/plain": [
       "array([[inf, inf, inf, inf, inf, inf],\n",
       "       [inf, inf, inf, inf, inf, inf],\n",
       "       [inf, inf, inf, inf, inf, inf],\n",
       "       [inf, inf, inf, inf, inf, inf],\n",
       "       [inf, inf, inf, inf, inf, inf]])"
      ]
     },
     "execution_count": 136,
     "metadata": {},
     "output_type": "execute_result"
    }
   ],
   "source": [
    "arr1/0"
   ]
  },
  {
   "cell_type": "code",
   "execution_count": null,
   "id": "5b39cbe8-23d3-4939-a513-ea9838ab06aa",
   "metadata": {},
   "outputs": [],
   "source": []
  }
 ],
 "metadata": {
  "kernelspec": {
   "display_name": "Python 3 (ipykernel)",
   "language": "python",
   "name": "python3"
  },
  "language_info": {
   "codemirror_mode": {
    "name": "ipython",
    "version": 3
   },
   "file_extension": ".py",
   "mimetype": "text/x-python",
   "name": "python",
   "nbconvert_exporter": "python",
   "pygments_lexer": "ipython3",
   "version": "3.10.8"
  }
 },
 "nbformat": 4,
 "nbformat_minor": 5
}
