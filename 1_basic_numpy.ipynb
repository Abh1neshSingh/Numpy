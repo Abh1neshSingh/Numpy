{
 "cells": [
  {
   "cell_type": "code",
   "execution_count": 41,
   "id": "a25ababd-3b37-4e9d-867e-f500f840aec7",
   "metadata": {},
   "outputs": [],
   "source": [
    "import numpy as np"
   ]
  },
  {
   "cell_type": "code",
   "execution_count": 7,
   "id": "7d28c7fe-ecf9-47a7-8f75-790a51234f52",
   "metadata": {},
   "outputs": [
    {
     "data": {
      "text/plain": [
       "'1.23.5'"
      ]
     },
     "execution_count": 7,
     "metadata": {},
     "output_type": "execute_result"
    }
   ],
   "source": [
    "np.__version__ # to check version of numpy"
   ]
  },
  {
   "cell_type": "code",
   "execution_count": 8,
   "id": "55feb15d-62b8-4c15-8cbd-52387adbc17e",
   "metadata": {},
   "outputs": [
    {
     "name": "stdout",
     "output_type": "stream",
     "text": [
      "\n",
      "NumPy\n",
      "=====\n",
      "\n",
      "Provides\n",
      "  1. An array object of arbitrary homogeneous items\n",
      "  2. Fast mathematical operations over arrays\n",
      "  3. Linear Algebra, Fourier Transforms, Random Number Generation\n",
      "\n",
      "How to use the documentation\n",
      "----------------------------\n",
      "Documentation is available in two forms: docstrings provided\n",
      "with the code, and a loose standing reference guide, available from\n",
      "`the NumPy homepage <https://numpy.org>`_.\n",
      "\n",
      "We recommend exploring the docstrings using\n",
      "`IPython <https://ipython.org>`_, an advanced Python shell with\n",
      "TAB-completion and introspection capabilities.  See below for further\n",
      "instructions.\n",
      "\n",
      "The docstring examples assume that `numpy` has been imported as `np`::\n",
      "\n",
      "  >>> import numpy as np\n",
      "\n",
      "Code snippets are indicated by three greater-than signs::\n",
      "\n",
      "  >>> x = 42\n",
      "  >>> x = x + 1\n",
      "\n",
      "Use the built-in ``help`` function to view a function's docstring::\n",
      "\n",
      "  >>> help(np.sort)\n",
      "  ... # doctest: +SKIP\n",
      "\n",
      "For some objects, ``np.info(obj)`` may provide additional help.  This is\n",
      "particularly true if you see the line \"Help on ufunc object:\" at the top\n",
      "of the help() page.  Ufuncs are implemented in C, not Python, for speed.\n",
      "The native Python help() does not know how to view their help, but our\n",
      "np.info() function does.\n",
      "\n",
      "To search for documents containing a keyword, do::\n",
      "\n",
      "  >>> np.lookfor('keyword')\n",
      "  ... # doctest: +SKIP\n",
      "\n",
      "General-purpose documents like a glossary and help on the basic concepts\n",
      "of numpy are available under the ``doc`` sub-module::\n",
      "\n",
      "  >>> from numpy import doc\n",
      "  >>> help(doc)\n",
      "  ... # doctest: +SKIP\n",
      "\n",
      "Available subpackages\n",
      "---------------------\n",
      "lib\n",
      "    Basic functions used by several sub-packages.\n",
      "random\n",
      "    Core Random Tools\n",
      "linalg\n",
      "    Core Linear Algebra Tools\n",
      "fft\n",
      "    Core FFT routines\n",
      "polynomial\n",
      "    Polynomial tools\n",
      "testing\n",
      "    NumPy testing tools\n",
      "distutils\n",
      "    Enhancements to distutils with support for\n",
      "    Fortran compilers support and more.\n",
      "\n",
      "Utilities\n",
      "---------\n",
      "test\n",
      "    Run numpy unittests\n",
      "show_config\n",
      "    Show numpy build configuration\n",
      "dual\n",
      "    Overwrite certain functions with high-performance SciPy tools.\n",
      "    Note: `numpy.dual` is deprecated.  Use the functions from NumPy or Scipy\n",
      "    directly instead of importing them from `numpy.dual`.\n",
      "matlib\n",
      "    Make everything matrices.\n",
      "__version__\n",
      "    NumPy version string\n",
      "\n",
      "Viewing documentation using IPython\n",
      "-----------------------------------\n",
      "Start IPython with the NumPy profile (``ipython -p numpy``), which will\n",
      "import `numpy` under the alias `np`.  Then, use the ``cpaste`` command to\n",
      "paste examples into the shell.  To see which functions are available in\n",
      "`numpy`, type ``np.<TAB>`` (where ``<TAB>`` refers to the TAB key), or use\n",
      "``np.*cos*?<ENTER>`` (where ``<ENTER>`` refers to the ENTER key) to narrow\n",
      "down the list.  To view the docstring for a function, use\n",
      "``np.cos?<ENTER>`` (to view the docstring) and ``np.cos??<ENTER>`` (to view\n",
      "the source code).\n",
      "\n",
      "Copies vs. in-place operation\n",
      "-----------------------------\n",
      "Most of the functions in `numpy` return a copy of the array argument\n",
      "(e.g., `np.sort`).  In-place versions of these functions are often\n",
      "available as array methods, i.e. ``x = np.array([1,2,3]); x.sort()``.\n",
      "Exceptions to this rule are documented.\n",
      "\n",
      "\n"
     ]
    }
   ],
   "source": [
    "print(np.__doc__) # to see some documentation of numpy"
   ]
  },
  {
   "cell_type": "code",
   "execution_count": null,
   "id": "98250e21-11da-4df7-a5e8-664b028a0b7d",
   "metadata": {},
   "outputs": [],
   "source": []
  },
  {
   "cell_type": "code",
   "execution_count": 9,
   "id": "dfd438c1-9a08-42d9-a668-347d1404bcd8",
   "metadata": {},
   "outputs": [],
   "source": [
    "# why numpy\n",
    "# -methemathical function\n",
    "# faster"
   ]
  },
  {
   "cell_type": "code",
   "execution_count": null,
   "id": "c27796a6-afff-4b90-b957-b863906a1203",
   "metadata": {},
   "outputs": [],
   "source": []
  },
  {
   "cell_type": "code",
   "execution_count": 10,
   "id": "f992f268-0fa7-4d0b-8a81-58901f70ff66",
   "metadata": {},
   "outputs": [],
   "source": [
    "# example 1"
   ]
  },
  {
   "cell_type": "code",
   "execution_count": 11,
   "id": "40ad51cc-090f-449a-898e-c4a2c6cf717f",
   "metadata": {},
   "outputs": [],
   "source": [
    "l =[1,23,4,5,6] "
   ]
  },
  {
   "cell_type": "code",
   "execution_count": 12,
   "id": "a85fd8fc-5f1b-44b9-b5e3-0678d69e8a92",
   "metadata": {},
   "outputs": [
    {
     "data": {
      "text/plain": [
       "[1, 23, 4, 5, 6]"
      ]
     },
     "execution_count": 12,
     "metadata": {},
     "output_type": "execute_result"
    }
   ],
   "source": [
    "l"
   ]
  },
  {
   "cell_type": "code",
   "execution_count": 13,
   "id": "e008bcb4-b58b-4029-bd50-c3317f2dd747",
   "metadata": {},
   "outputs": [],
   "source": [
    "arr =np.array(l) # to convert list into array"
   ]
  },
  {
   "cell_type": "code",
   "execution_count": 14,
   "id": "ed195635-918c-4c58-8577-1c76c71d6706",
   "metadata": {},
   "outputs": [
    {
     "data": {
      "text/plain": [
       "array([ 1, 23,  4,  5,  6])"
      ]
     },
     "execution_count": 14,
     "metadata": {},
     "output_type": "execute_result"
    }
   ],
   "source": [
    "arr"
   ]
  },
  {
   "cell_type": "code",
   "execution_count": 15,
   "id": "63574d17-6039-4d85-be23-de5c160c08b5",
   "metadata": {},
   "outputs": [
    {
     "data": {
      "text/plain": [
       "numpy.ndarray"
      ]
     },
     "execution_count": 15,
     "metadata": {},
     "output_type": "execute_result"
    }
   ],
   "source": [
    "type(np.array(l))  # to check type"
   ]
  },
  {
   "cell_type": "code",
   "execution_count": 16,
   "id": "6fb2b433-9619-484a-bef6-c1e7ba923318",
   "metadata": {},
   "outputs": [
    {
     "data": {
      "text/plain": [
       "1"
      ]
     },
     "execution_count": 16,
     "metadata": {},
     "output_type": "execute_result"
    }
   ],
   "source": [
    "arr.ndim # to check dimensions of array"
   ]
  },
  {
   "cell_type": "code",
   "execution_count": 17,
   "id": "f90ec193-7357-47c0-97a2-1bc831b7e5de",
   "metadata": {},
   "outputs": [],
   "source": [
    "# example 2"
   ]
  },
  {
   "cell_type": "code",
   "execution_count": 18,
   "id": "5e9404bf-b53e-4c6d-aeb3-0e4f30c35fa7",
   "metadata": {},
   "outputs": [
    {
     "data": {
      "text/plain": [
       "array(['1', '2', '3', '4', '5', '6', 'Abhinesh'], dtype='<U21')"
      ]
     },
     "execution_count": 18,
     "metadata": {},
     "output_type": "execute_result"
    }
   ],
   "source": [
    "l2=[1,2,3,4,5,6,'Abhinesh']\n",
    "arr1=np.array(l2)\n",
    "arr1\n"
   ]
  },
  {
   "cell_type": "code",
   "execution_count": null,
   "id": "5003b80b-5745-440c-b6e7-135444efb6be",
   "metadata": {},
   "outputs": [],
   "source": []
  },
  {
   "cell_type": "code",
   "execution_count": 19,
   "id": "dbddf04a-1d43-4f5f-afa4-a6868b9ddc2f",
   "metadata": {},
   "outputs": [],
   "source": [
    "# two Dimensions array in numpy"
   ]
  },
  {
   "cell_type": "code",
   "execution_count": 20,
   "id": "2f0a20b5-3bb9-47fb-acb4-93dc44f170a1",
   "metadata": {},
   "outputs": [],
   "source": [
    "arr2=np.array([[1,2,3],[4,5,6]])   # to create 2D array"
   ]
  },
  {
   "cell_type": "code",
   "execution_count": 21,
   "id": "e7207f2e-ea1f-4ebd-933e-696966999e31",
   "metadata": {},
   "outputs": [
    {
     "data": {
      "text/plain": [
       "array([[1, 2, 3],\n",
       "       [4, 5, 6]])"
      ]
     },
     "execution_count": 21,
     "metadata": {},
     "output_type": "execute_result"
    }
   ],
   "source": [
    "arr2"
   ]
  },
  {
   "cell_type": "code",
   "execution_count": 22,
   "id": "64864483-267f-4873-a291-2b52ff58c150",
   "metadata": {},
   "outputs": [
    {
     "data": {
      "text/plain": [
       "2"
      ]
     },
     "execution_count": 22,
     "metadata": {},
     "output_type": "execute_result"
    }
   ],
   "source": [
    "arr2.ndim"
   ]
  },
  {
   "cell_type": "code",
   "execution_count": 23,
   "id": "77ec3883-e664-4e15-849b-7b05163e8cc0",
   "metadata": {},
   "outputs": [],
   "source": [
    "# another method to create array in numpy"
   ]
  },
  {
   "cell_type": "code",
   "execution_count": 24,
   "id": "9930e5d6-d759-4e79-ab1d-109dc7a309da",
   "metadata": {},
   "outputs": [],
   "source": [
    "# 1D Array"
   ]
  },
  {
   "cell_type": "code",
   "execution_count": 25,
   "id": "733dcf5e-b878-42a2-bdd6-b68ae1beeb96",
   "metadata": {},
   "outputs": [],
   "source": [
    "x =np.arange(2,6).reshape(4)"
   ]
  },
  {
   "cell_type": "code",
   "execution_count": 26,
   "id": "8b3390e4-71b5-4cfd-930a-432665cd388d",
   "metadata": {},
   "outputs": [
    {
     "data": {
      "text/plain": [
       "array([2, 3, 4, 5])"
      ]
     },
     "execution_count": 26,
     "metadata": {},
     "output_type": "execute_result"
    }
   ],
   "source": [
    "x"
   ]
  },
  {
   "cell_type": "code",
   "execution_count": 27,
   "id": "313d7509-bad9-48aa-b733-1c8ba18366c7",
   "metadata": {},
   "outputs": [
    {
     "data": {
      "text/plain": [
       "1"
      ]
     },
     "execution_count": 27,
     "metadata": {},
     "output_type": "execute_result"
    }
   ],
   "source": [
    "x.ndim"
   ]
  },
  {
   "cell_type": "code",
   "execution_count": 28,
   "id": "1b896d94-81f0-4946-841a-706d74ddf390",
   "metadata": {},
   "outputs": [],
   "source": [
    "# 2d Array "
   ]
  },
  {
   "cell_type": "code",
   "execution_count": 29,
   "id": "c41059fc-48eb-423a-b32c-0185799712d9",
   "metadata": {},
   "outputs": [],
   "source": [
    "x1 = np.arange(2,10).reshape(2,4)"
   ]
  },
  {
   "cell_type": "code",
   "execution_count": 30,
   "id": "63577f8b-c62c-4924-bbbe-4c746cbaa3ae",
   "metadata": {},
   "outputs": [
    {
     "data": {
      "text/plain": [
       "array([[2, 3, 4, 5],\n",
       "       [6, 7, 8, 9]])"
      ]
     },
     "execution_count": 30,
     "metadata": {},
     "output_type": "execute_result"
    }
   ],
   "source": [
    "x1"
   ]
  },
  {
   "cell_type": "code",
   "execution_count": 31,
   "id": "0525e5cd-0f55-4d9d-96d1-d05bee12edab",
   "metadata": {},
   "outputs": [],
   "source": [
    "# 3D array"
   ]
  },
  {
   "cell_type": "code",
   "execution_count": 32,
   "id": "cc819218-78cc-41ec-a538-254c747f316e",
   "metadata": {},
   "outputs": [],
   "source": [
    "x2 = np.arange(24).reshape(4,3,2)"
   ]
  },
  {
   "cell_type": "code",
   "execution_count": 33,
   "id": "44b4fae2-93a6-4f94-8691-ec8318135f01",
   "metadata": {},
   "outputs": [
    {
     "data": {
      "text/plain": [
       "array([[[ 0,  1],\n",
       "        [ 2,  3],\n",
       "        [ 4,  5]],\n",
       "\n",
       "       [[ 6,  7],\n",
       "        [ 8,  9],\n",
       "        [10, 11]],\n",
       "\n",
       "       [[12, 13],\n",
       "        [14, 15],\n",
       "        [16, 17]],\n",
       "\n",
       "       [[18, 19],\n",
       "        [20, 21],\n",
       "        [22, 23]]])"
      ]
     },
     "execution_count": 33,
     "metadata": {},
     "output_type": "execute_result"
    }
   ],
   "source": [
    "x2"
   ]
  },
  {
   "cell_type": "code",
   "execution_count": 34,
   "id": "c4bf1212-8a63-4478-86b1-dd9471727c70",
   "metadata": {},
   "outputs": [],
   "source": [
    "l=[1,2,3,4]"
   ]
  },
  {
   "cell_type": "code",
   "execution_count": 35,
   "id": "5d3226ef-1a5d-4246-ae9d-5cabf9f8f56a",
   "metadata": {},
   "outputs": [
    {
     "data": {
      "text/plain": [
       "array([1, 2, 3, 4])"
      ]
     },
     "execution_count": 35,
     "metadata": {},
     "output_type": "execute_result"
    }
   ],
   "source": [
    "np.array(l)"
   ]
  },
  {
   "cell_type": "code",
   "execution_count": 36,
   "id": "bcd8d1a5-88c3-4c85-a937-1e89a6ef7930",
   "metadata": {},
   "outputs": [
    {
     "data": {
      "text/plain": [
       "matrix([[1, 2, 3, 4]])"
      ]
     },
     "execution_count": 36,
     "metadata": {},
     "output_type": "execute_result"
    }
   ],
   "source": [
    "np.matrix(l) # when we cretae matrix it's form array like object \n",
    "              # but  be-defaults  matrix will be  2D"
   ]
  },
  {
   "cell_type": "code",
   "execution_count": 37,
   "id": "203d25cf-cca4-452e-a4a7-b83163b0dbb9",
   "metadata": {},
   "outputs": [],
   "source": [
    "# matrix always is by defaults 2D"
   ]
  },
  {
   "cell_type": "code",
   "execution_count": null,
   "id": "2355f1e5-f337-4e46-b3d0-ebf84747bacf",
   "metadata": {},
   "outputs": [],
   "source": []
  },
  {
   "cell_type": "code",
   "execution_count": 38,
   "id": "4cbaec75-d988-4777-90ed-1db72c56e7e2",
   "metadata": {},
   "outputs": [
    {
     "ename": "ValueError",
     "evalue": "matrix must be 2-dimensional",
     "output_type": "error",
     "traceback": [
      "\u001b[0;31m---------------------------------------------------------------------------\u001b[0m",
      "\u001b[0;31mValueError\u001b[0m                                Traceback (most recent call last)",
      "Cell \u001b[0;32mIn[38], line 1\u001b[0m\n\u001b[0;32m----> 1\u001b[0m \u001b[43mnp\u001b[49m\u001b[38;5;241;43m.\u001b[39;49m\u001b[43mmatrix\u001b[49m\u001b[43m(\u001b[49m\u001b[43m[\u001b[49m\u001b[43m[\u001b[49m\u001b[43m[\u001b[49m\u001b[38;5;241;43m1\u001b[39;49m\u001b[43m,\u001b[49m\u001b[38;5;241;43m3\u001b[39;49m\u001b[43m]\u001b[49m\u001b[43m,\u001b[49m\u001b[43m[\u001b[49m\u001b[38;5;241;43m2\u001b[39;49m\u001b[43m,\u001b[49m\u001b[38;5;241;43m4\u001b[39;49m\u001b[43m]\u001b[49m\u001b[43m,\u001b[49m\u001b[43m[\u001b[49m\u001b[38;5;241;43m7\u001b[39;49m\u001b[43m,\u001b[49m\u001b[38;5;241;43m8\u001b[39;49m\u001b[43m]\u001b[49m\u001b[43m]\u001b[49m\u001b[43m]\u001b[49m\u001b[43m)\u001b[49m \n",
      "File \u001b[0;32m/opt/conda/lib/python3.10/site-packages/numpy/matrixlib/defmatrix.py:149\u001b[0m, in \u001b[0;36mmatrix.__new__\u001b[0;34m(subtype, data, dtype, copy)\u001b[0m\n\u001b[1;32m    147\u001b[0m shape \u001b[38;5;241m=\u001b[39m arr\u001b[38;5;241m.\u001b[39mshape\n\u001b[1;32m    148\u001b[0m \u001b[38;5;28;01mif\u001b[39;00m (ndim \u001b[38;5;241m>\u001b[39m \u001b[38;5;241m2\u001b[39m):\n\u001b[0;32m--> 149\u001b[0m     \u001b[38;5;28;01mraise\u001b[39;00m \u001b[38;5;167;01mValueError\u001b[39;00m(\u001b[38;5;124m\"\u001b[39m\u001b[38;5;124mmatrix must be 2-dimensional\u001b[39m\u001b[38;5;124m\"\u001b[39m)\n\u001b[1;32m    150\u001b[0m \u001b[38;5;28;01melif\u001b[39;00m ndim \u001b[38;5;241m==\u001b[39m \u001b[38;5;241m0\u001b[39m:\n\u001b[1;32m    151\u001b[0m     shape \u001b[38;5;241m=\u001b[39m (\u001b[38;5;241m1\u001b[39m, \u001b[38;5;241m1\u001b[39m)\n",
      "\u001b[0;31mValueError\u001b[0m: matrix must be 2-dimensional"
     ]
    }
   ],
   "source": [
    "np.matrix([[[1,3],[2,4],[7,8]]]) "
   ]
  },
  {
   "cell_type": "code",
   "execution_count": 39,
   "id": "8927681f-891d-44d0-913d-ee8855a5e247",
   "metadata": {},
   "outputs": [],
   "source": [
    "# Above we create 3D matrix but it's give error \n",
    "# matrix must be 2-dimensional\n",
    "# it means matrix is only and only 2D"
   ]
  },
  {
   "cell_type": "code",
   "execution_count": 40,
   "id": "98c54732-ad33-41dd-850d-81bc13b976d9",
   "metadata": {},
   "outputs": [
    {
     "data": {
      "text/plain": [
       "array([[[1, 3],\n",
       "        [2, 4],\n",
       "        [7, 8]]])"
      ]
     },
     "execution_count": 40,
     "metadata": {},
     "output_type": "execute_result"
    }
   ],
   "source": [
    "np.array([[[1,3],[2,4],[7,8]]]) "
   ]
  },
  {
   "cell_type": "code",
   "execution_count": 41,
   "id": "8119efcd-7a95-42f7-9f3d-71cbe610f027",
   "metadata": {},
   "outputs": [],
   "source": [
    "# but array having 3D as we create above"
   ]
  },
  {
   "cell_type": "code",
   "execution_count": 42,
   "id": "7ca9c3ea-c091-46b1-aaf4-6216e776a915",
   "metadata": {},
   "outputs": [],
   "source": [
    "# more way to covert to array"
   ]
  },
  {
   "cell_type": "code",
   "execution_count": 43,
   "id": "bc063112-8b98-4af3-ac82-daf5b505c638",
   "metadata": {},
   "outputs": [
    {
     "data": {
      "text/plain": [
       "array([[[1, 3],\n",
       "        [2, 4],\n",
       "        [7, 8]]])"
      ]
     },
     "execution_count": 43,
     "metadata": {},
     "output_type": "execute_result"
    }
   ],
   "source": [
    "np.asarray([[[1,3],[2,4],[7,8]]]) "
   ]
  },
  {
   "cell_type": "code",
   "execution_count": 44,
   "id": "51b459d6-4d68-456d-b117-4349da03b4aa",
   "metadata": {},
   "outputs": [
    {
     "data": {
      "text/plain": [
       "array([[[1, 3],\n",
       "        [2, 4],\n",
       "        [7, 8]]])"
      ]
     },
     "execution_count": 44,
     "metadata": {},
     "output_type": "execute_result"
    }
   ],
   "source": [
    "np.asanyarray([[[1,3],[2,4],[7,8]]]) #Convert the input to an ndarray, but pass ndarray subclasses through"
   ]
  },
  {
   "cell_type": "code",
   "execution_count": null,
   "id": "c84c126a-44bf-464c-898f-81e361a05d30",
   "metadata": {},
   "outputs": [],
   "source": []
  },
  {
   "cell_type": "code",
   "execution_count": 45,
   "id": "46095f10-3925-4a73-bd4e-bce905f4e168",
   "metadata": {},
   "outputs": [],
   "source": [
    "# example"
   ]
  },
  {
   "cell_type": "code",
   "execution_count": 46,
   "id": "a7354ff4-d1dd-428f-a462-4e4f3772531b",
   "metadata": {},
   "outputs": [],
   "source": [
    "mat=np.matrix(l)"
   ]
  },
  {
   "cell_type": "code",
   "execution_count": 47,
   "id": "336a7013-a7ed-451b-a573-4784641a9dc8",
   "metadata": {},
   "outputs": [
    {
     "data": {
      "text/plain": [
       "matrix([[1, 2, 3, 4]])"
      ]
     },
     "execution_count": 47,
     "metadata": {},
     "output_type": "execute_result"
    }
   ],
   "source": [
    "mat"
   ]
  },
  {
   "cell_type": "code",
   "execution_count": 48,
   "id": "0ba7990d-7131-48a6-bdc5-330f69756547",
   "metadata": {},
   "outputs": [
    {
     "data": {
      "text/plain": [
       "matrix([[1, 2, 3, 4]])"
      ]
     },
     "execution_count": 48,
     "metadata": {},
     "output_type": "execute_result"
    }
   ],
   "source": [
    "np.asanyarray(mat) # it is not covert in array . it is still matrix"
   ]
  },
  {
   "cell_type": "code",
   "execution_count": 49,
   "id": "8d5d8c83-c142-450a-b159-fe0a6d1f0daa",
   "metadata": {},
   "outputs": [],
   "source": [
    "# covert tuple to array"
   ]
  },
  {
   "cell_type": "code",
   "execution_count": 50,
   "id": "e16f324b-686f-40f7-8c13-1f5f11233943",
   "metadata": {},
   "outputs": [],
   "source": [
    "t =([1,2,3],[4,5,6])"
   ]
  },
  {
   "cell_type": "code",
   "execution_count": 51,
   "id": "70378baf-a00f-4e40-ade3-b52d7eff7e1f",
   "metadata": {},
   "outputs": [
    {
     "data": {
      "text/plain": [
       "tuple"
      ]
     },
     "execution_count": 51,
     "metadata": {},
     "output_type": "execute_result"
    }
   ],
   "source": [
    "type(t)"
   ]
  },
  {
   "cell_type": "code",
   "execution_count": 52,
   "id": "823ff564-32c3-40de-afb3-9425aac090a8",
   "metadata": {},
   "outputs": [
    {
     "data": {
      "text/plain": [
       "array([[1, 2, 3],\n",
       "       [4, 5, 6]])"
      ]
     },
     "execution_count": 52,
     "metadata": {},
     "output_type": "execute_result"
    }
   ],
   "source": [
    "np.asanyarray(t)"
   ]
  },
  {
   "cell_type": "code",
   "execution_count": null,
   "id": "64f00f51-c6bf-4a63-8895-7210e5eea057",
   "metadata": {},
   "outputs": [],
   "source": []
  },
  {
   "cell_type": "code",
   "execution_count": 53,
   "id": "e8f15aa8-e46a-4570-a24f-782616a2a221",
   "metadata": {},
   "outputs": [
    {
     "data": {
      "text/plain": [
       "array(5)"
      ]
     },
     "execution_count": 53,
     "metadata": {},
     "output_type": "execute_result"
    }
   ],
   "source": [
    "a=5\n",
    "np.array(a)"
   ]
  },
  {
   "cell_type": "code",
   "execution_count": null,
   "id": "1eb5a4a4-dfe4-4be7-85e5-bb5df51732c2",
   "metadata": {},
   "outputs": [],
   "source": []
  },
  {
   "cell_type": "code",
   "execution_count": 54,
   "id": "53641762-629b-460b-9ac9-68f8bbadadee",
   "metadata": {},
   "outputs": [],
   "source": [
    "# shallow copy \n"
   ]
  },
  {
   "cell_type": "code",
   "execution_count": 63,
   "id": "ed2ed40c-cca1-4072-b2fe-a48154779efd",
   "metadata": {},
   "outputs": [],
   "source": [
    "#A shallow copy creates a new object with references to the \n",
    "#same elements as the original."
   ]
  },
  {
   "cell_type": "code",
   "execution_count": 64,
   "id": "21d69a27-4514-4f94-b752-ece65d9b9696",
   "metadata": {},
   "outputs": [],
   "source": [
    "l3 =[1,2,3,4,5]"
   ]
  },
  {
   "cell_type": "code",
   "execution_count": 65,
   "id": "3b0828c0-1835-4234-8b00-369b9ec7131b",
   "metadata": {},
   "outputs": [
    {
     "data": {
      "text/plain": [
       "[1, 2, 3, 4, 5]"
      ]
     },
     "execution_count": 65,
     "metadata": {},
     "output_type": "execute_result"
    }
   ],
   "source": [
    "l3"
   ]
  },
  {
   "cell_type": "code",
   "execution_count": 66,
   "id": "6fd30a6b-7d80-472d-aa9f-c9798abd2051",
   "metadata": {},
   "outputs": [],
   "source": [
    "arr4 = np.array(l)"
   ]
  },
  {
   "cell_type": "code",
   "execution_count": 67,
   "id": "a841843e-04b2-4d36-9fab-2dfeb7d6223a",
   "metadata": {},
   "outputs": [
    {
     "data": {
      "text/plain": [
       "array([1, 2, 3, 4])"
      ]
     },
     "execution_count": 67,
     "metadata": {},
     "output_type": "execute_result"
    }
   ],
   "source": [
    "arr4"
   ]
  },
  {
   "cell_type": "code",
   "execution_count": 68,
   "id": "eb6cb057-3aec-4dd3-a9fd-284e67dcff8f",
   "metadata": {},
   "outputs": [],
   "source": [
    "a=arr4"
   ]
  },
  {
   "cell_type": "code",
   "execution_count": 69,
   "id": "a9e6694c-440d-491d-84b6-9b6703cd6692",
   "metadata": {},
   "outputs": [
    {
     "data": {
      "text/plain": [
       "1"
      ]
     },
     "execution_count": 69,
     "metadata": {},
     "output_type": "execute_result"
    }
   ],
   "source": [
    "a[0]"
   ]
  },
  {
   "cell_type": "code",
   "execution_count": 70,
   "id": "eba36841-ab13-4518-983d-a067e99810e3",
   "metadata": {},
   "outputs": [],
   "source": [
    "arr4[0]= 1000"
   ]
  },
  {
   "cell_type": "code",
   "execution_count": 87,
   "id": "34f502df-f25f-48f0-b2a6-ddf057bf7477",
   "metadata": {},
   "outputs": [
    {
     "data": {
      "text/plain": [
       "array([1000,    2,    3,    4])"
      ]
     },
     "execution_count": 87,
     "metadata": {},
     "output_type": "execute_result"
    }
   ],
   "source": [
    "arr4"
   ]
  },
  {
   "cell_type": "code",
   "execution_count": 73,
   "id": "1d371bc3-b1a6-4a0e-ba4a-e82f9b1cab9e",
   "metadata": {},
   "outputs": [
    {
     "data": {
      "text/plain": [
       "array([1000,    2,    3,    4])"
      ]
     },
     "execution_count": 73,
     "metadata": {},
     "output_type": "execute_result"
    }
   ],
   "source": [
    "a"
   ]
  },
  {
   "cell_type": "code",
   "execution_count": null,
   "id": "27c0d061-b0da-47d3-8dcf-03886473b1bd",
   "metadata": {},
   "outputs": [],
   "source": []
  },
  {
   "cell_type": "code",
   "execution_count": 74,
   "id": "c96d9aa2-bb83-4020-adf2-6d7a0dfddad3",
   "metadata": {},
   "outputs": [],
   "source": [
    "# in this shallow copy when we create a array --arr[1,3,4,54]\n",
    "#then in OS a memory is created \n",
    "#  and if a=arr\n",
    "# then a and arr are reflected to same memory location \n",
    "# this Concept is known as shallow copy."
   ]
  },
  {
   "cell_type": "code",
   "execution_count": null,
   "id": "393aafa7-097e-42c5-a3e7-216dda31b41b",
   "metadata": {},
   "outputs": [],
   "source": []
  },
  {
   "cell_type": "code",
   "execution_count": 75,
   "id": "21e07e92-de44-420f-8463-30675b37490c",
   "metadata": {},
   "outputs": [],
   "source": [
    "# deep copy"
   ]
  },
  {
   "cell_type": "code",
   "execution_count": 78,
   "id": "3d79e835-50fb-4c83-adff-7aa96c107cf6",
   "metadata": {},
   "outputs": [],
   "source": [
    "#A shallow copy creates a new object with references to the \n",
    "#same elements as the original."
   ]
  },
  {
   "cell_type": "code",
   "execution_count": 79,
   "id": "01beef8d-6b50-46cf-8242-6c46f4a719ce",
   "metadata": {},
   "outputs": [],
   "source": [
    "b =a.copy()"
   ]
  },
  {
   "cell_type": "code",
   "execution_count": 80,
   "id": "014be9ab-43dd-4af8-8e58-d1ef6184cbb0",
   "metadata": {},
   "outputs": [
    {
     "data": {
      "text/plain": [
       "array([1000,    2,    3,    4])"
      ]
     },
     "execution_count": 80,
     "metadata": {},
     "output_type": "execute_result"
    }
   ],
   "source": [
    "b"
   ]
  },
  {
   "cell_type": "code",
   "execution_count": 81,
   "id": "bf1a1858-8e2d-4b9a-8261-4b0d8e45e203",
   "metadata": {},
   "outputs": [],
   "source": [
    "b[0]=123"
   ]
  },
  {
   "cell_type": "code",
   "execution_count": 82,
   "id": "f5e12fba-1fc6-43a2-a39b-338737a4f251",
   "metadata": {},
   "outputs": [
    {
     "data": {
      "text/plain": [
       "array([123,   2,   3,   4])"
      ]
     },
     "execution_count": 82,
     "metadata": {},
     "output_type": "execute_result"
    }
   ],
   "source": [
    "b"
   ]
  },
  {
   "cell_type": "code",
   "execution_count": 94,
   "id": "4f777946-d46a-488c-84f4-27abfd94a910",
   "metadata": {},
   "outputs": [
    {
     "data": {
      "text/plain": [
       "array([1000,    2,    3,    4])"
      ]
     },
     "execution_count": 94,
     "metadata": {},
     "output_type": "execute_result"
    }
   ],
   "source": [
    "a"
   ]
  },
  {
   "cell_type": "code",
   "execution_count": null,
   "id": "669ddb64-eee4-41a9-bd7e-9259569100af",
   "metadata": {},
   "outputs": [],
   "source": []
  },
  {
   "cell_type": "code",
   "execution_count": 84,
   "id": "a0de8991-5c97-463b-b297-28f790ac3e1b",
   "metadata": {},
   "outputs": [],
   "source": [
    "# there are multiple ways to Generating arrays"
   ]
  },
  {
   "cell_type": "code",
   "execution_count": null,
   "id": "3a47ae94-054d-4259-9580-4a7fb5d155ca",
   "metadata": {},
   "outputs": [
    {
     "data": {
      "text/plain": [
       "array([[ True, False, False],\n",
       "       [False,  True, False],\n",
       "       [False, False,  True]])"
      ]
     },
     "execution_count": 85,
     "metadata": {},
     "output_type": "execute_result"
    }
   ],
   "source": [
    "np.fromfunction(lambda i,j: i==j,shape=(3,3))"
   ]
  },
  {
   "cell_type": "code",
   "execution_count": 89,
   "id": "872a406d-5fec-4b73-a22c-00d092d28ecd",
   "metadata": {},
   "outputs": [
    {
     "data": {
      "text/plain": [
       "array([[1, 2, 3],\n",
       "       [4, 5, 6]])"
      ]
     },
     "execution_count": 89,
     "metadata": {},
     "output_type": "execute_result"
    }
   ],
   "source": [
    "arr2"
   ]
  },
  {
   "cell_type": "code",
   "execution_count": 93,
   "id": "93e308f7-2c96-47a0-9c45-ade6a90cbee4",
   "metadata": {},
   "outputs": [
    {
     "data": {
      "text/plain": [
       "(2, 3)"
      ]
     },
     "execution_count": 93,
     "metadata": {},
     "output_type": "execute_result"
    }
   ],
   "source": [
    "arr2.shape"
   ]
  },
  {
   "cell_type": "code",
   "execution_count": 95,
   "id": "6446e7cb-d2c4-497a-a6f2-6cf60fdc65f3",
   "metadata": {},
   "outputs": [
    {
     "data": {
      "text/plain": [
       "7"
      ]
     },
     "execution_count": 95,
     "metadata": {},
     "output_type": "execute_result"
    }
   ],
   "source": [
    "arr1.size"
   ]
  },
  {
   "cell_type": "code",
   "execution_count": 96,
   "id": "32d51548-d3ce-49d1-b043-a10dfb1924f0",
   "metadata": {},
   "outputs": [
    {
     "data": {
      "text/plain": [
       "6"
      ]
     },
     "execution_count": 96,
     "metadata": {},
     "output_type": "execute_result"
    }
   ],
   "source": [
    "arr2.size"
   ]
  },
  {
   "cell_type": "code",
   "execution_count": null,
   "id": "2d64dccc-78fe-4d82-81a0-8ffd4eb164aa",
   "metadata": {},
   "outputs": [],
   "source": []
  },
  {
   "cell_type": "code",
   "execution_count": null,
   "id": "3a8e214a-f487-44ba-8dd1-32165a6d1001",
   "metadata": {},
   "outputs": [],
   "source": []
  },
  {
   "cell_type": "code",
   "execution_count": null,
   "id": "a0621a91-983b-4606-8024-c5ff57429c6c",
   "metadata": {},
   "outputs": [],
   "source": []
  },
  {
   "cell_type": "code",
   "execution_count": 97,
   "id": "83bd1f09-28ab-4fe5-97d0-567c23dde338",
   "metadata": {},
   "outputs": [
    {
     "data": {
      "text/plain": [
       "array([[ True, False, False],\n",
       "       [False,  True, False],\n",
       "       [False, False,  True]])"
      ]
     },
     "execution_count": 97,
     "metadata": {},
     "output_type": "execute_result"
    }
   ],
   "source": [
    "np.fromfunction(lambda i,j: i==j,shape=(3,3))"
   ]
  },
  {
   "cell_type": "code",
   "execution_count": 98,
   "id": "398e7dec-13b3-40fd-87e5-26d67830ceb0",
   "metadata": {},
   "outputs": [
    {
     "data": {
      "text/plain": [
       "array([[0., 0., 0.],\n",
       "       [0., 1., 2.],\n",
       "       [0., 2., 4.]])"
      ]
     },
     "execution_count": 98,
     "metadata": {},
     "output_type": "execute_result"
    }
   ],
   "source": [
    "np.fromfunction(lambda i,j: i*j,shape=(3,3))"
   ]
  },
  {
   "cell_type": "code",
   "execution_count": 99,
   "id": "eafd76ca-fd2f-4539-9f2d-613c2ed8f692",
   "metadata": {},
   "outputs": [
    {
     "data": {
      "text/plain": [
       "array([[ 0., -1., -2.],\n",
       "       [ 1.,  0., -1.],\n",
       "       [ 2.,  1.,  0.]])"
      ]
     },
     "execution_count": 99,
     "metadata": {},
     "output_type": "execute_result"
    }
   ],
   "source": [
    "np.fromfunction(lambda i,j: i-j,shape=(3,3))"
   ]
  },
  {
   "cell_type": "code",
   "execution_count": 100,
   "id": "ce3f859a-fa8b-410b-ab52-92cd1d0d3151",
   "metadata": {},
   "outputs": [
    {
     "data": {
      "text/plain": [
       "array([[0., 1., 2.],\n",
       "       [1., 2., 3.],\n",
       "       [2., 3., 4.]])"
      ]
     },
     "execution_count": 100,
     "metadata": {},
     "output_type": "execute_result"
    }
   ],
   "source": [
    "np.fromfunction(lambda i,j: i+j,shape=(3,3))"
   ]
  },
  {
   "cell_type": "code",
   "execution_count": 101,
   "id": "70b5c775-2c4d-4846-b210-f50c6fe19d79",
   "metadata": {},
   "outputs": [
    {
     "name": "stderr",
     "output_type": "stream",
     "text": [
      "/tmp/ipykernel_102/1876743146.py:1: RuntimeWarning: divide by zero encountered in divide\n",
      "  np.fromfunction(lambda i,j: i/j,shape=(3,3))\n",
      "/tmp/ipykernel_102/1876743146.py:1: RuntimeWarning: invalid value encountered in divide\n",
      "  np.fromfunction(lambda i,j: i/j,shape=(3,3))\n"
     ]
    },
    {
     "data": {
      "text/plain": [
       "array([[nan, 0. , 0. ],\n",
       "       [inf, 1. , 0.5],\n",
       "       [inf, 2. , 1. ]])"
      ]
     },
     "execution_count": 101,
     "metadata": {},
     "output_type": "execute_result"
    }
   ],
   "source": [
    "np.fromfunction(lambda i,j: i/j,shape=(3,3))"
   ]
  },
  {
   "cell_type": "code",
   "execution_count": 102,
   "id": "8ac3bd8a-6bd2-4f76-8119-c9e5f9583f47",
   "metadata": {},
   "outputs": [
    {
     "data": {
      "text/plain": [
       "array([[False,  True,  True],\n",
       "       [ True, False,  True],\n",
       "       [ True,  True, False]])"
      ]
     },
     "execution_count": 102,
     "metadata": {},
     "output_type": "execute_result"
    }
   ],
   "source": [
    "np.fromfunction(lambda i,j: i!=j,shape=(3,3))"
   ]
  },
  {
   "cell_type": "code",
   "execution_count": null,
   "id": "3de5c5ee-4f4c-4db4-a19e-2dca500d6326",
   "metadata": {},
   "outputs": [],
   "source": []
  },
  {
   "cell_type": "code",
   "execution_count": 117,
   "id": "9a419420-97c4-42b1-a6ae-6df3008c850b",
   "metadata": {},
   "outputs": [],
   "source": [
    "iterable=(i*i for i in range (5))"
   ]
  },
  {
   "cell_type": "code",
   "execution_count": 118,
   "id": "8ff25931-3756-4ee8-9cdf-cde1e3c049bd",
   "metadata": {},
   "outputs": [
    {
     "data": {
      "text/plain": [
       "array([ 0,  1,  4,  9, 16])"
      ]
     },
     "execution_count": 118,
     "metadata": {},
     "output_type": "execute_result"
    }
   ],
   "source": [
    "np.fromiter(iterable,int)"
   ]
  },
  {
   "cell_type": "raw",
   "id": "877b2478-b063-4b47-9466-4c3ce0b4238d",
   "metadata": {},
   "source": []
  },
  {
   "cell_type": "code",
   "execution_count": null,
   "id": "5324db35-c23d-4156-a310-c1e70c6a4438",
   "metadata": {},
   "outputs": [],
   "source": []
  },
  {
   "cell_type": "code",
   "execution_count": 116,
   "id": "375e4f2e-bfb8-4c5b-8c3c-c21a6d4f5c0b",
   "metadata": {},
   "outputs": [
    {
     "data": {
      "text/plain": [
       "array([23.,  2.,  3.,  4.,  5.,  6.])"
      ]
     },
     "execution_count": 116,
     "metadata": {},
     "output_type": "execute_result"
    }
   ],
   "source": [
    "np .fromstring(\"23 2 3 4 5 6\",sep=\" \")"
   ]
  },
  {
   "cell_type": "code",
   "execution_count": null,
   "id": "47cd9843-dcb8-4ca4-8056-ced3352d5c23",
   "metadata": {},
   "outputs": [],
   "source": []
  },
  {
   "cell_type": "code",
   "execution_count": 120,
   "id": "e748c8c4-4ae2-4e92-ad1f-066589899131",
   "metadata": {},
   "outputs": [
    {
     "data": {
      "text/plain": [
       "dtype('int64')"
      ]
     },
     "execution_count": 120,
     "metadata": {},
     "output_type": "execute_result"
    }
   ],
   "source": [
    "arr2.dtype"
   ]
  },
  {
   "cell_type": "code",
   "execution_count": null,
   "id": "2c7b0756-fd33-4901-8f74-9611c2d492a6",
   "metadata": {},
   "outputs": [],
   "source": []
  },
  {
   "cell_type": "code",
   "execution_count": null,
   "id": "e78a1561-6be4-470d-b888-858c84bcecaa",
   "metadata": {},
   "outputs": [],
   "source": []
  },
  {
   "cell_type": "code",
   "execution_count": 123,
   "id": "d3c5ab06-7847-4be6-92fc-ff694023519a",
   "metadata": {},
   "outputs": [
    {
     "data": {
      "text/plain": [
       "dtype('int64')"
      ]
     },
     "execution_count": 123,
     "metadata": {},
     "output_type": "execute_result"
    }
   ],
   "source": [
    "lists =[1,2,3]\n",
    "arr= np.array(lists)\n",
    "arr.dtype"
   ]
  },
  {
   "cell_type": "code",
   "execution_count": 124,
   "id": "74cae3c1-fbbc-4a3f-822a-6c166d5bbdac",
   "metadata": {},
   "outputs": [
    {
     "data": {
      "text/plain": [
       "[0, 1, 2, 3, 4]"
      ]
     },
     "execution_count": 124,
     "metadata": {},
     "output_type": "execute_result"
    }
   ],
   "source": [
    "list(range(5))"
   ]
  },
  {
   "cell_type": "code",
   "execution_count": 125,
   "id": "77067b99-bdcc-4f82-a796-cc2a4fcaccf7",
   "metadata": {},
   "outputs": [
    {
     "data": {
      "text/plain": [
       "range(0, 5)"
      ]
     },
     "execution_count": 125,
     "metadata": {},
     "output_type": "execute_result"
    }
   ],
   "source": [
    "range(5)"
   ]
  },
  {
   "cell_type": "code",
   "execution_count": 127,
   "id": "6c308251-6e70-43c7-8831-07aeb35b0163",
   "metadata": {},
   "outputs": [
    {
     "ename": "TypeError",
     "evalue": "'float' object cannot be interpreted as an integer",
     "output_type": "error",
     "traceback": [
      "\u001b[0;31m---------------------------------------------------------------------------\u001b[0m",
      "\u001b[0;31mTypeError\u001b[0m                                 Traceback (most recent call last)",
      "Cell \u001b[0;32mIn[127], line 1\u001b[0m\n\u001b[0;32m----> 1\u001b[0m \u001b[38;5;28mlist\u001b[39m(\u001b[38;5;28;43mrange\u001b[39;49m\u001b[43m(\u001b[49m\u001b[38;5;241;43m1.0\u001b[39;49m\u001b[43m,\u001b[49m\u001b[38;5;241;43m2.10\u001b[39;49m\u001b[43m)\u001b[49m) \u001b[38;5;66;03m# range can't define with float value\u001b[39;00m\n",
      "\u001b[0;31mTypeError\u001b[0m: 'float' object cannot be interpreted as an integer"
     ]
    }
   ],
   "source": [
    "list(range(1.0,2.10)) # range can't define with float value"
   ]
  },
  {
   "cell_type": "code",
   "execution_count": 130,
   "id": "4f6f46eb-e5e9-4144-bcbe-f6db1558a963",
   "metadata": {
    "tags": []
   },
   "outputs": [
    {
     "data": {
      "text/plain": [
       "array([ 0.1,  0.3,  0.5,  0.7,  0.9,  1.1,  1.3,  1.5,  1.7,  1.9,  2.1,\n",
       "        2.3,  2.5,  2.7,  2.9,  3.1,  3.3,  3.5,  3.7,  3.9,  4.1,  4.3,\n",
       "        4.5,  4.7,  4.9,  5.1,  5.3,  5.5,  5.7,  5.9,  6.1,  6.3,  6.5,\n",
       "        6.7,  6.9,  7.1,  7.3,  7.5,  7.7,  7.9,  8.1,  8.3,  8.5,  8.7,\n",
       "        8.9,  9.1,  9.3,  9.5,  9.7,  9.9, 10.1])"
      ]
     },
     "execution_count": 130,
     "metadata": {},
     "output_type": "execute_result"
    }
   ],
   "source": [
    "np.arange(0.1,10.2,0.2)"
   ]
  },
  {
   "cell_type": "code",
   "execution_count": 133,
   "id": "3f911bca-29e7-4d8a-8efe-8b073bd273d7",
   "metadata": {},
   "outputs": [
    {
     "data": {
      "text/plain": [
       "[0.1,\n",
       " 0.6,\n",
       " 1.1,\n",
       " 1.6,\n",
       " 2.1,\n",
       " 2.6,\n",
       " 3.1,\n",
       " 3.6,\n",
       " 4.1,\n",
       " 4.6,\n",
       " 5.1,\n",
       " 5.6,\n",
       " 6.1,\n",
       " 6.6,\n",
       " 7.1,\n",
       " 7.6,\n",
       " 8.1,\n",
       " 8.6,\n",
       " 9.1,\n",
       " 9.6,\n",
       " 10.1]"
      ]
     },
     "execution_count": 133,
     "metadata": {},
     "output_type": "execute_result"
    }
   ],
   "source": [
    "list(np.arange(0.1,10.2,0.5))"
   ]
  },
  {
   "cell_type": "code",
   "execution_count": null,
   "id": "8665f724-6d0d-406f-a874-6f780a5430d2",
   "metadata": {},
   "outputs": [],
   "source": []
  },
  {
   "cell_type": "code",
   "execution_count": 4,
   "id": "002d529a-2c8d-4017-9fca-38769058d6fe",
   "metadata": {},
   "outputs": [
    {
     "data": {
      "text/plain": [
       "array([1.        , 1.04040404, 1.08080808, 1.12121212, 1.16161616,\n",
       "       1.2020202 , 1.24242424, 1.28282828, 1.32323232, 1.36363636,\n",
       "       1.4040404 , 1.44444444, 1.48484848, 1.52525253, 1.56565657,\n",
       "       1.60606061, 1.64646465, 1.68686869, 1.72727273, 1.76767677,\n",
       "       1.80808081, 1.84848485, 1.88888889, 1.92929293, 1.96969697,\n",
       "       2.01010101, 2.05050505, 2.09090909, 2.13131313, 2.17171717,\n",
       "       2.21212121, 2.25252525, 2.29292929, 2.33333333, 2.37373737,\n",
       "       2.41414141, 2.45454545, 2.49494949, 2.53535354, 2.57575758,\n",
       "       2.61616162, 2.65656566, 2.6969697 , 2.73737374, 2.77777778,\n",
       "       2.81818182, 2.85858586, 2.8989899 , 2.93939394, 2.97979798,\n",
       "       3.02020202, 3.06060606, 3.1010101 , 3.14141414, 3.18181818,\n",
       "       3.22222222, 3.26262626, 3.3030303 , 3.34343434, 3.38383838,\n",
       "       3.42424242, 3.46464646, 3.50505051, 3.54545455, 3.58585859,\n",
       "       3.62626263, 3.66666667, 3.70707071, 3.74747475, 3.78787879,\n",
       "       3.82828283, 3.86868687, 3.90909091, 3.94949495, 3.98989899,\n",
       "       4.03030303, 4.07070707, 4.11111111, 4.15151515, 4.19191919,\n",
       "       4.23232323, 4.27272727, 4.31313131, 4.35353535, 4.39393939,\n",
       "       4.43434343, 4.47474747, 4.51515152, 4.55555556, 4.5959596 ,\n",
       "       4.63636364, 4.67676768, 4.71717172, 4.75757576, 4.7979798 ,\n",
       "       4.83838384, 4.87878788, 4.91919192, 4.95959596, 5.        ])"
      ]
     },
     "execution_count": 4,
     "metadata": {},
     "output_type": "execute_result"
    }
   ],
   "source": [
    "np.linspace(1,5,100)# "
   ]
  },
  {
   "cell_type": "code",
   "execution_count": 9,
   "id": "81225d7c-d05b-4272-950f-dd55a86e76c9",
   "metadata": {},
   "outputs": [
    {
     "data": {
      "text/plain": [
       "array([ 2.        ,  2.72158   ,  3.70349885,  5.0396842 ,  6.85795186,\n",
       "        9.33223232, 12.69920842, 17.28095582, 23.51575188, 32.        ])"
      ]
     },
     "execution_count": 9,
     "metadata": {},
     "output_type": "execute_result"
    }
   ],
   "source": [
    "np.logspace(1,5,10,base=2)"
   ]
  },
  {
   "cell_type": "code",
   "execution_count": 10,
   "id": "f00e6e2c-cac7-40cf-a9e6-f10bbe5d42d6",
   "metadata": {},
   "outputs": [
    {
     "data": {
      "text/plain": [
       "array([1.00000000e+01, 2.78255940e+01, 7.74263683e+01, 2.15443469e+02,\n",
       "       5.99484250e+02, 1.66810054e+03, 4.64158883e+03, 1.29154967e+04,\n",
       "       3.59381366e+04, 1.00000000e+05])"
      ]
     },
     "execution_count": 10,
     "metadata": {},
     "output_type": "execute_result"
    }
   ],
   "source": [
    "np.logspace(1,5,10,base=10)"
   ]
  },
  {
   "cell_type": "code",
   "execution_count": 36,
   "id": "c03e9f10-c98b-4af9-bf22-2a9798b94180",
   "metadata": {},
   "outputs": [
    {
     "data": {
      "text/plain": [
       "array([0., 0., 0., 0., 0.])"
      ]
     },
     "execution_count": 36,
     "metadata": {},
     "output_type": "execute_result"
    }
   ],
   "source": [
    "np.zeros(5)"
   ]
  },
  {
   "cell_type": "code",
   "execution_count": 37,
   "id": "c862fbc8-cc31-495a-be2b-0a45f4cce851",
   "metadata": {},
   "outputs": [],
   "source": [
    "a=np.zeros((3,4))"
   ]
  },
  {
   "cell_type": "code",
   "execution_count": 38,
   "id": "8486575d-414c-48db-a8fc-a1f63a295813",
   "metadata": {},
   "outputs": [
    {
     "data": {
      "text/plain": [
       "2"
      ]
     },
     "execution_count": 38,
     "metadata": {},
     "output_type": "execute_result"
    }
   ],
   "source": [
    "a.ndim"
   ]
  },
  {
   "cell_type": "code",
   "execution_count": 39,
   "id": "d3ef70db-4c65-4fd0-922b-9aaf619738fb",
   "metadata": {},
   "outputs": [
    {
     "data": {
      "text/plain": [
       "array([[0., 0., 0., 0.],\n",
       "       [0., 0., 0., 0.],\n",
       "       [0., 0., 0., 0.]])"
      ]
     },
     "execution_count": 39,
     "metadata": {},
     "output_type": "execute_result"
    }
   ],
   "source": [
    "a"
   ]
  },
  {
   "cell_type": "code",
   "execution_count": 61,
   "id": "044c2351-c244-4fb4-94bd-458ab5b849ce",
   "metadata": {},
   "outputs": [],
   "source": [
    "b=np.zeros((3,3,4))"
   ]
  },
  {
   "cell_type": "code",
   "execution_count": 62,
   "id": "9ec1a26b-fcc5-4dd3-b6c5-938da1a5067d",
   "metadata": {},
   "outputs": [
    {
     "data": {
      "text/plain": [
       "array([[[0., 0., 0., 0.],\n",
       "        [0., 0., 0., 0.],\n",
       "        [0., 0., 0., 0.]],\n",
       "\n",
       "       [[0., 0., 0., 0.],\n",
       "        [0., 0., 0., 0.],\n",
       "        [0., 0., 0., 0.]],\n",
       "\n",
       "       [[0., 0., 0., 0.],\n",
       "        [0., 0., 0., 0.],\n",
       "        [0., 0., 0., 0.]]])"
      ]
     },
     "execution_count": 62,
     "metadata": {},
     "output_type": "execute_result"
    }
   ],
   "source": [
    "b"
   ]
  },
  {
   "cell_type": "code",
   "execution_count": 55,
   "id": "50214a5a-65f3-49fe-a935-e4f0c724a30c",
   "metadata": {},
   "outputs": [
    {
     "data": {
      "text/plain": [
       "3"
      ]
     },
     "execution_count": 55,
     "metadata": {},
     "output_type": "execute_result"
    }
   ],
   "source": [
    "b.ndim"
   ]
  },
  {
   "cell_type": "code",
   "execution_count": null,
   "id": "6a0f1fc3-ada8-4a33-b3c5-2fd4f9a55503",
   "metadata": {},
   "outputs": [],
   "source": []
  },
  {
   "cell_type": "code",
   "execution_count": 51,
   "id": "af56f014-b91c-4371-88f0-4a1f27c58903",
   "metadata": {},
   "outputs": [
    {
     "data": {
      "text/plain": [
       "array([1., 1., 1., 1., 1.])"
      ]
     },
     "execution_count": 51,
     "metadata": {},
     "output_type": "execute_result"
    }
   ],
   "source": [
    "np.ones(5)"
   ]
  },
  {
   "cell_type": "code",
   "execution_count": 63,
   "id": "6cf946e9-0cf1-4b59-bddd-de06be826428",
   "metadata": {},
   "outputs": [
    {
     "data": {
      "text/plain": [
       "array([[1., 1., 1., 1.],\n",
       "       [1., 1., 1., 1.],\n",
       "       [1., 1., 1., 1.]])"
      ]
     },
     "execution_count": 63,
     "metadata": {},
     "output_type": "execute_result"
    }
   ],
   "source": [
    "np.ones((3,4))"
   ]
  },
  {
   "cell_type": "code",
   "execution_count": 65,
   "id": "1b601bc5-cb71-4ec0-9349-b8d39d361425",
   "metadata": {},
   "outputs": [],
   "source": [
    "add=np.ones((1,4,3,4))"
   ]
  },
  {
   "cell_type": "code",
   "execution_count": 70,
   "id": "c8ad22c0-c7b8-4a7d-9ae5-b6384990e35f",
   "metadata": {},
   "outputs": [
    {
     "data": {
      "text/plain": [
       "array([[[[11., 11., 11., 11.],\n",
       "         [11., 11., 11., 11.],\n",
       "         [11., 11., 11., 11.]],\n",
       "\n",
       "        [[11., 11., 11., 11.],\n",
       "         [11., 11., 11., 11.],\n",
       "         [11., 11., 11., 11.]],\n",
       "\n",
       "        [[11., 11., 11., 11.],\n",
       "         [11., 11., 11., 11.],\n",
       "         [11., 11., 11., 11.]],\n",
       "\n",
       "        [[11., 11., 11., 11.],\n",
       "         [11., 11., 11., 11.],\n",
       "         [11., 11., 11., 11.]]]])"
      ]
     },
     "execution_count": 70,
     "metadata": {},
     "output_type": "execute_result"
    }
   ],
   "source": [
    "add+5"
   ]
  },
  {
   "cell_type": "code",
   "execution_count": 73,
   "id": "3397c7be-0acf-431a-a079-a780f88f3566",
   "metadata": {},
   "outputs": [
    {
     "data": {
      "text/plain": [
       "array([[[[11., 11., 11., 11.],\n",
       "         [11., 11., 11., 11.],\n",
       "         [11., 11., 11., 11.]],\n",
       "\n",
       "        [[11., 11., 11., 11.],\n",
       "         [11., 11., 11., 11.],\n",
       "         [11., 11., 11., 11.]],\n",
       "\n",
       "        [[11., 11., 11., 11.],\n",
       "         [11., 11., 11., 11.],\n",
       "         [11., 11., 11., 11.]],\n",
       "\n",
       "        [[11., 11., 11., 11.],\n",
       "         [11., 11., 11., 11.],\n",
       "         [11., 11., 11., 11.]]]])"
      ]
     },
     "execution_count": 73,
     "metadata": {},
     "output_type": "execute_result"
    }
   ],
   "source": [
    "add+5*2"
   ]
  },
  {
   "cell_type": "code",
   "execution_count": null,
   "id": "c2ec7827-2f55-4191-b34a-f6f8baf93381",
   "metadata": {},
   "outputs": [],
   "source": []
  }
 ],
 "metadata": {
  "kernelspec": {
   "display_name": "Python 3 (ipykernel)",
   "language": "python",
   "name": "python3"
  },
  "language_info": {
   "codemirror_mode": {
    "name": "ipython",
    "version": 3
   },
   "file_extension": ".py",
   "mimetype": "text/x-python",
   "name": "python",
   "nbconvert_exporter": "python",
   "pygments_lexer": "ipython3",
   "version": "3.10.8"
  }
 },
 "nbformat": 4,
 "nbformat_minor": 5
}
