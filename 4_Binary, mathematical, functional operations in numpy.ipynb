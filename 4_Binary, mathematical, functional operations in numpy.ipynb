{
 "cells": [
  {
   "cell_type": "code",
   "execution_count": 43,
   "id": "82eb8617-b174-4817-afaa-217735034555",
   "metadata": {},
   "outputs": [],
   "source": [
    "import numpy as np"
   ]
  },
  {
   "cell_type": "code",
   "execution_count": 44,
   "id": "3c87e3ab-e48f-48c0-ac38-c9955d7e327e",
   "metadata": {},
   "outputs": [],
   "source": [
    "# squeeze function : It is reduce  one dimensions of any 2D or any Dimensions "
   ]
  },
  {
   "cell_type": "code",
   "execution_count": 45,
   "id": "4fc229cf-a102-450b-8b1b-326cb2bbd6f7",
   "metadata": {},
   "outputs": [],
   "source": [
    "data =np.array([[1],[2],[3]])"
   ]
  },
  {
   "cell_type": "code",
   "execution_count": 46,
   "id": "73ce0681-491b-4460-a045-7c0a96c6053e",
   "metadata": {},
   "outputs": [
    {
     "data": {
      "text/plain": [
       "array([[1],\n",
       "       [2],\n",
       "       [3]])"
      ]
     },
     "execution_count": 46,
     "metadata": {},
     "output_type": "execute_result"
    }
   ],
   "source": [
    "data"
   ]
  },
  {
   "cell_type": "code",
   "execution_count": 47,
   "id": "23d3db59-994b-4f2a-8494-7497e6b662c7",
   "metadata": {},
   "outputs": [
    {
     "data": {
      "text/plain": [
       "2"
      ]
     },
     "execution_count": 47,
     "metadata": {},
     "output_type": "execute_result"
    }
   ],
   "source": [
    "data.ndim"
   ]
  },
  {
   "cell_type": "code",
   "execution_count": 48,
   "id": "090aec52-6ff1-4bda-b972-ff6f0e3abed8",
   "metadata": {},
   "outputs": [],
   "source": [
    "a=np.squeeze(data)"
   ]
  },
  {
   "cell_type": "code",
   "execution_count": 49,
   "id": "fc859f4f-324c-4efd-86e0-e09883756137",
   "metadata": {},
   "outputs": [
    {
     "data": {
      "text/plain": [
       "1"
      ]
     },
     "execution_count": 49,
     "metadata": {},
     "output_type": "execute_result"
    }
   ],
   "source": [
    "a.ndim"
   ]
  },
  {
   "cell_type": "code",
   "execution_count": null,
   "id": "94848513-33b5-4f81-8555-a2dcbb68a352",
   "metadata": {},
   "outputs": [],
   "source": []
  },
  {
   "cell_type": "code",
   "execution_count": 50,
   "id": "4ac5b982-9008-4c97-9d58-fb387f782437",
   "metadata": {},
   "outputs": [],
   "source": [
    "# repeat Function : it is use for repeating data and its output is always in one dimension "
   ]
  },
  {
   "cell_type": "code",
   "execution_count": 51,
   "id": "99d6f186-af1b-44db-9d0a-9e16b6ad23b7",
   "metadata": {},
   "outputs": [
    {
     "data": {
      "text/plain": [
       "array([[1],\n",
       "       [2],\n",
       "       [3]])"
      ]
     },
     "execution_count": 51,
     "metadata": {},
     "output_type": "execute_result"
    }
   ],
   "source": [
    "data"
   ]
  },
  {
   "cell_type": "code",
   "execution_count": 52,
   "id": "05c7cb33-7ff6-4baf-a3e3-137b6c9cb88c",
   "metadata": {},
   "outputs": [
    {
     "data": {
      "text/plain": [
       "array([1, 1, 1, 1, 2, 2, 2, 2, 3, 3, 3, 3])"
      ]
     },
     "execution_count": 52,
     "metadata": {},
     "output_type": "execute_result"
    }
   ],
   "source": [
    "np.repeat(data,4)"
   ]
  },
  {
   "cell_type": "code",
   "execution_count": null,
   "id": "9d6583b5-d4c4-4cc2-a23a-6cd658032f05",
   "metadata": {},
   "outputs": [],
   "source": []
  },
  {
   "cell_type": "code",
   "execution_count": 53,
   "id": "06942f8c-b1f9-4487-9f32-4e3da6d3ea2b",
   "metadata": {},
   "outputs": [],
   "source": [
    "arr =np.random.randint(1,9 ,(3,3))"
   ]
  },
  {
   "cell_type": "code",
   "execution_count": 54,
   "id": "0921cd76-f327-4856-94d4-890ccd9f94a6",
   "metadata": {},
   "outputs": [
    {
     "data": {
      "text/plain": [
       "array([[2, 4, 2],\n",
       "       [8, 1, 1],\n",
       "       [3, 8, 5]])"
      ]
     },
     "execution_count": 54,
     "metadata": {},
     "output_type": "execute_result"
    }
   ],
   "source": [
    "arr"
   ]
  },
  {
   "cell_type": "code",
   "execution_count": 55,
   "id": "4601ea91-6a53-4317-a015-c11fd5ae3315",
   "metadata": {},
   "outputs": [
    {
     "data": {
      "text/plain": [
       "array([2, 2, 4, 4, 2, 2, 8, 8, 1, 1, 1, 1, 3, 3, 8, 8, 5, 5])"
      ]
     },
     "execution_count": 55,
     "metadata": {},
     "output_type": "execute_result"
    }
   ],
   "source": [
    "np.repeat(arr,2)"
   ]
  },
  {
   "cell_type": "code",
   "execution_count": null,
   "id": "18fe0393-7447-4c82-bd14-6a0d765a1a7b",
   "metadata": {},
   "outputs": [],
   "source": []
  },
  {
   "cell_type": "code",
   "execution_count": 56,
   "id": "68b83bd4-fb9f-4b3d-b784-b42d9c883ceb",
   "metadata": {},
   "outputs": [
    {
     "data": {
      "text/plain": [
       "array([[2, 2, 4, 4, 2, 2],\n",
       "       [8, 8, 1, 1, 1, 1],\n",
       "       [3, 3, 8, 8, 5, 5]])"
      ]
     },
     "execution_count": 56,
     "metadata": {},
     "output_type": "execute_result"
    }
   ],
   "source": [
    "np.repeat(arr ,2 , axis=1)"
   ]
  },
  {
   "cell_type": "code",
   "execution_count": 57,
   "id": "e4cc9cfa-e44c-490a-a7e6-c8c657df7af0",
   "metadata": {},
   "outputs": [
    {
     "data": {
      "text/plain": [
       "array([[2, 4, 2],\n",
       "       [2, 4, 2],\n",
       "       [8, 1, 1],\n",
       "       [8, 1, 1],\n",
       "       [3, 8, 5],\n",
       "       [3, 8, 5]])"
      ]
     },
     "execution_count": 57,
     "metadata": {},
     "output_type": "execute_result"
    }
   ],
   "source": [
    "np.repeat(arr ,2 , axis=0)"
   ]
  },
  {
   "cell_type": "code",
   "execution_count": null,
   "id": "06b56d47-1a17-4473-b16a-450b7424eea1",
   "metadata": {},
   "outputs": [],
   "source": []
  },
  {
   "cell_type": "code",
   "execution_count": null,
   "id": "645c65c7-1d76-4a63-a3f8-c19e27374d90",
   "metadata": {},
   "outputs": [],
   "source": []
  },
  {
   "cell_type": "code",
   "execution_count": 58,
   "id": "fa252153-37d3-4dcf-85f5-1805b48f9767",
   "metadata": {},
   "outputs": [],
   "source": [
    "# roll function :In NumPy, the numpy.roll function is used to shift the\n",
    "# elements of an array along a specified axis.\n",
    "\n",
    "#numpy.roll in NumPy helps shift array elements in a circular manner along\n",
    "#a chosen axis, like rolling a wheel, bringing elements that reach the end \n",
    "#back to the start.\n",
    "\n"
   ]
  },
  {
   "cell_type": "code",
   "execution_count": null,
   "id": "c2e47fba-73cc-4338-bfa8-8bc1e741da36",
   "metadata": {},
   "outputs": [],
   "source": []
  },
  {
   "cell_type": "code",
   "execution_count": 59,
   "id": "0c0fdabf-b53a-4627-810f-bb6c42e804e1",
   "metadata": {},
   "outputs": [],
   "source": [
    "c=np.array([[1],[2],[3]])"
   ]
  },
  {
   "cell_type": "code",
   "execution_count": 60,
   "id": "dee434c3-86cc-46a1-8f1c-abb4fbade45d",
   "metadata": {},
   "outputs": [
    {
     "data": {
      "text/plain": [
       "array([[1],\n",
       "       [2],\n",
       "       [3]])"
      ]
     },
     "execution_count": 60,
     "metadata": {},
     "output_type": "execute_result"
    }
   ],
   "source": [
    "c"
   ]
  },
  {
   "cell_type": "code",
   "execution_count": 61,
   "id": "84e6eae8-7ae8-46a0-901b-7b3595f267cc",
   "metadata": {},
   "outputs": [
    {
     "data": {
      "text/plain": [
       "array([[3],\n",
       "       [1],\n",
       "       [2]])"
      ]
     },
     "execution_count": 61,
     "metadata": {},
     "output_type": "execute_result"
    }
   ],
   "source": [
    "np.roll(c ,1)"
   ]
  },
  {
   "cell_type": "code",
   "execution_count": 62,
   "id": "540f33da-af64-400c-b065-de01551ac0f8",
   "metadata": {},
   "outputs": [
    {
     "data": {
      "text/plain": [
       "array([[2],\n",
       "       [3],\n",
       "       [1]])"
      ]
     },
     "execution_count": 62,
     "metadata": {},
     "output_type": "execute_result"
    }
   ],
   "source": [
    "np.roll(c ,shift=2)"
   ]
  },
  {
   "cell_type": "code",
   "execution_count": 63,
   "id": "5dce3ee9-33fc-4dbf-8e5e-c366c1c0d45d",
   "metadata": {},
   "outputs": [
    {
     "data": {
      "text/plain": [
       "array([[2],\n",
       "       [3],\n",
       "       [1]])"
      ]
     },
     "execution_count": 63,
     "metadata": {},
     "output_type": "execute_result"
    }
   ],
   "source": [
    "np.roll(c,-1)"
   ]
  },
  {
   "cell_type": "code",
   "execution_count": 64,
   "id": "5e3785c4-ef68-4078-9973-3f22461d06f5",
   "metadata": {},
   "outputs": [
    {
     "name": "stdout",
     "output_type": "stream",
     "text": [
      "Original array:\n",
      "[[1 2 3]\n",
      " [4 5 6]\n",
      " [7 8 9]]\n",
      "\n",
      "Rolled array:\n",
      "[[8 9 1]\n",
      " [2 3 4]\n",
      " [5 6 7]]\n"
     ]
    }
   ],
   "source": [
    "import numpy as np\n",
    "\n",
    "# Create a sample array\n",
    "arr = np.array([[1, 2, 3],\n",
    "                [4, 5, 6],\n",
    "                [7, 8, 9]])\n",
    "\n",
    "# Roll the elements to the right along the flattened array\n",
    "rolled_array = np.roll(arr, shift=2)\n",
    "\n",
    "print(\"Original array:\")\n",
    "print(arr)\n",
    "\n",
    "print(\"\\nRolled array:\")\n",
    "print(rolled_array)\n"
   ]
  },
  {
   "cell_type": "code",
   "execution_count": null,
   "id": "d9ada8e8-9214-4fe4-acd2-593bd9824551",
   "metadata": {},
   "outputs": [],
   "source": []
  },
  {
   "cell_type": "code",
   "execution_count": 65,
   "id": "fe03718e-e1f0-4e4e-9c03-c4209e101530",
   "metadata": {},
   "outputs": [],
   "source": [
    "# to print any data in diagonally . which data you inserting  or pass into diagonal "
   ]
  },
  {
   "cell_type": "code",
   "execution_count": 66,
   "id": "35c1b8b9-fe09-4a40-863b-ba10e6f42ffd",
   "metadata": {},
   "outputs": [],
   "source": [
    "d=np.diag(np.array([1,2,3,4,5]))"
   ]
  },
  {
   "cell_type": "code",
   "execution_count": 67,
   "id": "bfcbdf37-627d-4d4d-96d4-f7739e55b7a6",
   "metadata": {},
   "outputs": [
    {
     "data": {
      "text/plain": [
       "array([[1, 0, 0, 0, 0],\n",
       "       [0, 2, 0, 0, 0],\n",
       "       [0, 0, 3, 0, 0],\n",
       "       [0, 0, 0, 4, 0],\n",
       "       [0, 0, 0, 0, 5]])"
      ]
     },
     "execution_count": 67,
     "metadata": {},
     "output_type": "execute_result"
    }
   ],
   "source": [
    "d"
   ]
  },
  {
   "cell_type": "code",
   "execution_count": 68,
   "id": "5d111fa5-208e-4de5-a2bc-ba84d3b8851d",
   "metadata": {},
   "outputs": [
    {
     "data": {
      "text/plain": [
       "array([[5, 1, 0, 0, 0],\n",
       "       [0, 0, 2, 0, 0],\n",
       "       [0, 0, 0, 3, 0],\n",
       "       [0, 0, 0, 0, 4],\n",
       "       [0, 0, 0, 0, 0]])"
      ]
     },
     "execution_count": 68,
     "metadata": {},
     "output_type": "execute_result"
    }
   ],
   "source": [
    "np.roll(d,1)"
   ]
  },
  {
   "cell_type": "code",
   "execution_count": null,
   "id": "f91c1380-1f32-4c38-b3b6-fb4dd3d56039",
   "metadata": {},
   "outputs": [],
   "source": []
  },
  {
   "cell_type": "code",
   "execution_count": null,
   "id": "79f8de4e-68fd-4c4b-87f0-f9b11392fa74",
   "metadata": {},
   "outputs": [],
   "source": []
  },
  {
   "cell_type": "code",
   "execution_count": null,
   "id": "84237322-6995-4e71-99af-64669bd9e277",
   "metadata": {},
   "outputs": [],
   "source": []
  },
  {
   "cell_type": "code",
   "execution_count": 69,
   "id": "26c038cd-8f87-4fa7-97f1-7e498b0203c9",
   "metadata": {},
   "outputs": [],
   "source": [
    "# Binary Operation on array"
   ]
  },
  {
   "cell_type": "code",
   "execution_count": 70,
   "id": "9954578e-92db-4ac3-9e7b-723abab942d4",
   "metadata": {},
   "outputs": [],
   "source": [
    "arr1=np.random.randint(1,10,(3,4))\n",
    "arr2=np.random.randint(1,10,(3,4))\n"
   ]
  },
  {
   "cell_type": "code",
   "execution_count": 71,
   "id": "1f0e02f8-4256-4faa-8423-115a78da4b11",
   "metadata": {},
   "outputs": [
    {
     "data": {
      "text/plain": [
       "array([[2, 4, 3, 5],\n",
       "       [5, 4, 9, 9],\n",
       "       [3, 7, 2, 1]])"
      ]
     },
     "execution_count": 71,
     "metadata": {},
     "output_type": "execute_result"
    }
   ],
   "source": [
    "arr1"
   ]
  },
  {
   "cell_type": "code",
   "execution_count": 72,
   "id": "43d30c82-f4e4-4e7c-a6db-0df54667ea56",
   "metadata": {},
   "outputs": [
    {
     "data": {
      "text/plain": [
       "array([[9, 2, 3, 2],\n",
       "       [4, 3, 4, 7],\n",
       "       [4, 5, 2, 5]])"
      ]
     },
     "execution_count": 72,
     "metadata": {},
     "output_type": "execute_result"
    }
   ],
   "source": [
    "arr2"
   ]
  },
  {
   "cell_type": "code",
   "execution_count": 73,
   "id": "14eeecf1-7449-4e4c-89b2-33cf2b4cefb2",
   "metadata": {},
   "outputs": [
    {
     "data": {
      "text/plain": [
       "array([[11,  6,  6,  7],\n",
       "       [ 9,  7, 13, 16],\n",
       "       [ 7, 12,  4,  6]])"
      ]
     },
     "execution_count": 73,
     "metadata": {},
     "output_type": "execute_result"
    }
   ],
   "source": [
    "arr1+arr2"
   ]
  },
  {
   "cell_type": "code",
   "execution_count": 74,
   "id": "f080478f-92d2-4006-8400-c2003f441a2b",
   "metadata": {},
   "outputs": [
    {
     "data": {
      "text/plain": [
       "array([[2, 4, 3, 5],\n",
       "       [5, 4, 9, 9],\n",
       "       [3, 7, 2, 1]])"
      ]
     },
     "execution_count": 74,
     "metadata": {},
     "output_type": "execute_result"
    }
   ],
   "source": [
    "arr1 "
   ]
  },
  {
   "cell_type": "code",
   "execution_count": 75,
   "id": "aa47f778-912a-4d26-91f7-367ad67e6549",
   "metadata": {},
   "outputs": [
    {
     "data": {
      "text/plain": [
       "array([[ -3,  -5,  -4,  -6],\n",
       "       [ -6,  -5, -10, -10],\n",
       "       [ -4,  -8,  -3,  -2]])"
      ]
     },
     "execution_count": 75,
     "metadata": {},
     "output_type": "execute_result"
    }
   ],
   "source": [
    "~arr1  # for negation "
   ]
  },
  {
   "cell_type": "code",
   "execution_count": 76,
   "id": "f6d3e049-70d6-4830-9d7b-3a6a4e53b2d6",
   "metadata": {},
   "outputs": [
    {
     "data": {
      "text/plain": [
       "array([[        4,       256,        27,      3125],\n",
       "       [     3125,       256, 387420489, 387420489],\n",
       "       [       27,    823543,         4,         1]])"
      ]
     },
     "execution_count": 76,
     "metadata": {},
     "output_type": "execute_result"
    }
   ],
   "source": [
    "arr1 **arr1"
   ]
  },
  {
   "cell_type": "code",
   "execution_count": 77,
   "id": "d35982af-2687-4253-bf7c-2c7ef9e28940",
   "metadata": {},
   "outputs": [
    {
     "data": {
      "text/plain": [
       "array([[2, 4, 3, 5],\n",
       "       [5, 4, 9, 9],\n",
       "       [3, 7, 2, 1]])"
      ]
     },
     "execution_count": 77,
     "metadata": {},
     "output_type": "execute_result"
    }
   ],
   "source": [
    "arr1"
   ]
  },
  {
   "cell_type": "code",
   "execution_count": 78,
   "id": "77231012-ab20-4154-912a-22a4be0656e9",
   "metadata": {},
   "outputs": [
    {
     "data": {
      "text/plain": [
       "array([[9, 2, 3, 2],\n",
       "       [4, 3, 4, 7],\n",
       "       [4, 5, 2, 5]])"
      ]
     },
     "execution_count": 78,
     "metadata": {},
     "output_type": "execute_result"
    }
   ],
   "source": [
    "arr2"
   ]
  },
  {
   "cell_type": "code",
   "execution_count": 83,
   "id": "2644f38e-c0a9-480c-9ec1-a7d5be6492fa",
   "metadata": {},
   "outputs": [
    {
     "data": {
      "text/plain": [
       "array([[    512,      16,      27,      25],\n",
       "       [    625,      64,    6561, 4782969],\n",
       "       [     81,   16807,       4,       1]])"
      ]
     },
     "execution_count": 83,
     "metadata": {},
     "output_type": "execute_result"
    }
   ],
   "source": [
    "arr1**arr2"
   ]
  },
  {
   "cell_type": "code",
   "execution_count": null,
   "id": "8a7eec6c-2485-4b5e-9338-46a264813ee7",
   "metadata": {},
   "outputs": [],
   "source": []
  },
  {
   "cell_type": "code",
   "execution_count": null,
   "id": "7b9af2ff-51e6-4208-8a62-0dc4c09984ac",
   "metadata": {},
   "outputs": [],
   "source": []
  },
  {
   "cell_type": "code",
   "execution_count": 81,
   "id": "c330bcab-1e2d-404c-9027-fed4580386ce",
   "metadata": {},
   "outputs": [],
   "source": [
    "# numpy String Function"
   ]
  },
  {
   "cell_type": "code",
   "execution_count": 98,
   "id": "ef4f54cc-22a2-4c4e-8bdc-26c488f0223e",
   "metadata": {},
   "outputs": [],
   "source": [
    "arr = np.array([\"pw\" ,\"Skills\"])\n"
   ]
  },
  {
   "cell_type": "code",
   "execution_count": 99,
   "id": "68a8657c-5234-412a-9cf4-4f4a13b26234",
   "metadata": {},
   "outputs": [
    {
     "data": {
      "text/plain": [
       "array(['pw', 'Skills'], dtype='<U6')"
      ]
     },
     "execution_count": 99,
     "metadata": {},
     "output_type": "execute_result"
    }
   ],
   "source": [
    "arr"
   ]
  },
  {
   "cell_type": "code",
   "execution_count": 100,
   "id": "ac341bc0-714b-4a97-903a-e0137a074045",
   "metadata": {},
   "outputs": [
    {
     "data": {
      "text/plain": [
       "array(['PW', 'SKILLS'], dtype='<U6')"
      ]
     },
     "execution_count": 100,
     "metadata": {},
     "output_type": "execute_result"
    }
   ],
   "source": [
    "np.char.upper(arr)"
   ]
  },
  {
   "cell_type": "code",
   "execution_count": 101,
   "id": "07124ec2-157c-4e7d-9fbf-986c5ce7d381",
   "metadata": {},
   "outputs": [
    {
     "data": {
      "text/plain": [
       "array(['pw', 'skills'], dtype='<U6')"
      ]
     },
     "execution_count": 101,
     "metadata": {},
     "output_type": "execute_result"
    }
   ],
   "source": [
    "np.char.lower(arr)"
   ]
  },
  {
   "cell_type": "code",
   "execution_count": 102,
   "id": "b748213d-6f87-4c2a-b329-66f0f73a9ff6",
   "metadata": {},
   "outputs": [
    {
     "data": {
      "text/plain": [
       "array(['ABHINESH'], dtype='<U8')"
      ]
     },
     "execution_count": 102,
     "metadata": {},
     "output_type": "execute_result"
    }
   ],
   "source": [
    "np.char.upper(np.array([\"Abhinesh\"]))"
   ]
  },
  {
   "cell_type": "code",
   "execution_count": 103,
   "id": "35681434-5ebe-4f4d-a510-6013f19db607",
   "metadata": {},
   "outputs": [
    {
     "data": {
      "text/plain": [
       "array(['abhinesh'], dtype='<U8')"
      ]
     },
     "execution_count": 103,
     "metadata": {},
     "output_type": "execute_result"
    }
   ],
   "source": [
    "np.char.lower(np.array([\"Abhinesh\"]))"
   ]
  },
  {
   "cell_type": "code",
   "execution_count": 104,
   "id": "fa242ed7-77b0-4e0b-a538-4edf7921e6e0",
   "metadata": {},
   "outputs": [
    {
     "data": {
      "text/plain": [
       "array(['Pw', 'Skills'], dtype='<U6')"
      ]
     },
     "execution_count": 104,
     "metadata": {},
     "output_type": "execute_result"
    }
   ],
   "source": [
    "np.char.capitalize(arr)"
   ]
  },
  {
   "cell_type": "code",
   "execution_count": 105,
   "id": "f1f3d6b1-20f4-4f2f-a8f1-b84bd3dd7220",
   "metadata": {},
   "outputs": [
    {
     "data": {
      "text/plain": [
       "array(['Pw', 'Skills'], dtype='<U6')"
      ]
     },
     "execution_count": 105,
     "metadata": {},
     "output_type": "execute_result"
    }
   ],
   "source": [
    "np.char.title(arr)"
   ]
  },
  {
   "cell_type": "code",
   "execution_count": null,
   "id": "ead9dd27-128a-4e73-8b31-b5faad282459",
   "metadata": {},
   "outputs": [],
   "source": []
  },
  {
   "cell_type": "code",
   "execution_count": null,
   "id": "668fa3e3-aa84-41e6-b08b-f7059aacc03a",
   "metadata": {},
   "outputs": [],
   "source": []
  },
  {
   "cell_type": "code",
   "execution_count": 106,
   "id": "5689f846-f386-444a-8575-63e11cfd45dd",
   "metadata": {},
   "outputs": [],
   "source": [
    "# Mathematical function"
   ]
  },
  {
   "cell_type": "code",
   "execution_count": 107,
   "id": "8baff9e8-6262-4e2d-b65e-57608a2b5c55",
   "metadata": {},
   "outputs": [
    {
     "data": {
      "text/plain": [
       "array([[2, 4, 3, 5],\n",
       "       [5, 4, 9, 9],\n",
       "       [3, 7, 2, 1]])"
      ]
     },
     "execution_count": 107,
     "metadata": {},
     "output_type": "execute_result"
    }
   ],
   "source": [
    "arr1"
   ]
  },
  {
   "cell_type": "code",
   "execution_count": 108,
   "id": "b694bb90-8b35-428d-9a64-51d8d30a9b50",
   "metadata": {},
   "outputs": [
    {
     "data": {
      "text/plain": [
       "array([[ 0.90929743, -0.7568025 ,  0.14112001, -0.95892427],\n",
       "       [-0.95892427, -0.7568025 ,  0.41211849,  0.41211849],\n",
       "       [ 0.14112001,  0.6569866 ,  0.90929743,  0.84147098]])"
      ]
     },
     "execution_count": 108,
     "metadata": {},
     "output_type": "execute_result"
    }
   ],
   "source": [
    "np.sin(arr1)"
   ]
  },
  {
   "cell_type": "code",
   "execution_count": 109,
   "id": "a9c217c5-3f05-4a6a-babc-0d396730dec3",
   "metadata": {},
   "outputs": [
    {
     "data": {
      "text/plain": [
       "array([[-0.41614684, -0.65364362, -0.9899925 ,  0.28366219],\n",
       "       [ 0.28366219, -0.65364362, -0.91113026, -0.91113026],\n",
       "       [-0.9899925 ,  0.75390225, -0.41614684,  0.54030231]])"
      ]
     },
     "execution_count": 109,
     "metadata": {},
     "output_type": "execute_result"
    }
   ],
   "source": [
    "np.cos(arr1)"
   ]
  },
  {
   "cell_type": "code",
   "execution_count": 110,
   "id": "ad37e171-aaae-472c-b1e0-d52344798c1e",
   "metadata": {},
   "outputs": [
    {
     "data": {
      "text/plain": [
       "array([[-2.18503986,  1.15782128, -0.14254654, -3.38051501],\n",
       "       [-3.38051501,  1.15782128, -0.45231566, -0.45231566],\n",
       "       [-0.14254654,  0.87144798, -2.18503986,  1.55740772]])"
      ]
     },
     "execution_count": 110,
     "metadata": {},
     "output_type": "execute_result"
    }
   ],
   "source": [
    "np.tan(arr1)"
   ]
  },
  {
   "cell_type": "code",
   "execution_count": 111,
   "id": "2e612f0e-b48e-482f-9d8e-c3bee5713f2d",
   "metadata": {},
   "outputs": [
    {
     "data": {
      "text/plain": [
       "array([[7.38905610e+00, 5.45981500e+01, 2.00855369e+01, 1.48413159e+02],\n",
       "       [1.48413159e+02, 5.45981500e+01, 8.10308393e+03, 8.10308393e+03],\n",
       "       [2.00855369e+01, 1.09663316e+03, 7.38905610e+00, 2.71828183e+00]])"
      ]
     },
     "execution_count": 111,
     "metadata": {},
     "output_type": "execute_result"
    }
   ],
   "source": [
    "np.exp(arr1)"
   ]
  },
  {
   "cell_type": "code",
   "execution_count": 113,
   "id": "78be9808-5da8-4442-b634-d92ea47d50c5",
   "metadata": {},
   "outputs": [
    {
     "data": {
      "text/plain": [
       "array([[0.30103   , 0.60205999, 0.47712125, 0.69897   ],\n",
       "       [0.69897   , 0.60205999, 0.95424251, 0.95424251],\n",
       "       [0.47712125, 0.84509804, 0.30103   , 0.        ]])"
      ]
     },
     "execution_count": 113,
     "metadata": {},
     "output_type": "execute_result"
    }
   ],
   "source": [
    "np.log10(arr1)"
   ]
  },
  {
   "cell_type": "code",
   "execution_count": 115,
   "id": "d6dc2ed1-535a-4855-851c-d25b89bfa9b7",
   "metadata": {},
   "outputs": [
    {
     "data": {
      "text/plain": [
       "array([[ 4, 16,  9, 25],\n",
       "       [25, 16, 81, 81],\n",
       "       [ 9, 49,  4,  1]])"
      ]
     },
     "execution_count": 115,
     "metadata": {},
     "output_type": "execute_result"
    }
   ],
   "source": [
    "np.power(arr1 ,2)  # Square "
   ]
  },
  {
   "cell_type": "code",
   "execution_count": 117,
   "id": "541a5242-9a75-46ed-afd4-d026bd93055e",
   "metadata": {},
   "outputs": [
    {
     "data": {
      "text/plain": [
       "array([[  8,  64,  27, 125],\n",
       "       [125,  64, 729, 729],\n",
       "       [ 27, 343,   8,   1]])"
      ]
     },
     "execution_count": 117,
     "metadata": {},
     "output_type": "execute_result"
    }
   ],
   "source": [
    "np.power(arr1 ,3) # cube "
   ]
  },
  {
   "cell_type": "code",
   "execution_count": 118,
   "id": "8c502e9c-de4f-4a34-9b40-f2e2cf647852",
   "metadata": {},
   "outputs": [
    {
     "data": {
      "text/plain": [
       "4.5"
      ]
     },
     "execution_count": 118,
     "metadata": {},
     "output_type": "execute_result"
    }
   ],
   "source": [
    "np.mean(arr1)"
   ]
  },
  {
   "cell_type": "code",
   "execution_count": 119,
   "id": "20451c51-ed71-4acc-9361-a0facfd1e8ca",
   "metadata": {},
   "outputs": [
    {
     "data": {
      "text/plain": [
       "9"
      ]
     },
     "execution_count": 119,
     "metadata": {},
     "output_type": "execute_result"
    }
   ],
   "source": [
    "np.max(arr1)"
   ]
  },
  {
   "cell_type": "code",
   "execution_count": 122,
   "id": "311fee03-c3e3-454f-9a53-745b3e3650ea",
   "metadata": {},
   "outputs": [
    {
     "data": {
      "text/plain": [
       "2.533114025595111"
      ]
     },
     "execution_count": 122,
     "metadata": {},
     "output_type": "execute_result"
    }
   ],
   "source": [
    "np.std(arr1) # Standerd deviations "
   ]
  },
  {
   "cell_type": "code",
   "execution_count": 124,
   "id": "4f486f65-82cb-4da9-8ae1-45b637ecba74",
   "metadata": {},
   "outputs": [
    {
     "data": {
      "text/plain": [
       "6.416666666666667"
      ]
     },
     "execution_count": 124,
     "metadata": {},
     "output_type": "execute_result"
    }
   ],
   "source": [
    "np.var(arr1) # variance"
   ]
  },
  {
   "cell_type": "code",
   "execution_count": 125,
   "id": "ed9a1d1f-4e79-48de-b3c3-b2b7c9937bcd",
   "metadata": {},
   "outputs": [
    {
     "data": {
      "text/plain": [
       "array([[11,  6,  6,  7],\n",
       "       [ 9,  7, 13, 16],\n",
       "       [ 7, 12,  4,  6]])"
      ]
     },
     "execution_count": 125,
     "metadata": {},
     "output_type": "execute_result"
    }
   ],
   "source": [
    "np.add(arr1,arr2)"
   ]
  },
  {
   "cell_type": "code",
   "execution_count": 127,
   "id": "0ac073e1-0440-491d-a353-9fe09a4bc497",
   "metadata": {},
   "outputs": [
    {
     "data": {
      "text/plain": [
       "array([[18,  8,  9, 10],\n",
       "       [20, 12, 36, 63],\n",
       "       [12, 35,  4,  5]])"
      ]
     },
     "execution_count": 127,
     "metadata": {},
     "output_type": "execute_result"
    }
   ],
   "source": [
    "np.multiply(arr1,arr2)"
   ]
  },
  {
   "cell_type": "code",
   "execution_count": 129,
   "id": "d95ef49f-4960-4e4a-9ae7-a4498bce4d0e",
   "metadata": {},
   "outputs": [
    {
     "data": {
      "text/plain": [
       "array([[2, 0, 0, 1],\n",
       "       [1, 1, 1, 2],\n",
       "       [3, 2, 0, 1]])"
      ]
     },
     "execution_count": 129,
     "metadata": {},
     "output_type": "execute_result"
    }
   ],
   "source": [
    "np.mod(arr1,arr2)   # return Remainder "
   ]
  },
  {
   "cell_type": "code",
   "execution_count": null,
   "id": "a21291bd-cbac-4873-acd5-029ad80f83fd",
   "metadata": {},
   "outputs": [],
   "source": []
  },
  {
   "cell_type": "code",
   "execution_count": 130,
   "id": "99950e44-d009-4c67-8f4b-8025c7348ddc",
   "metadata": {},
   "outputs": [],
   "source": [
    "# sort And Search"
   ]
  },
  {
   "cell_type": "code",
   "execution_count": 131,
   "id": "28c73130-d44b-495a-9882-1a159fa54299",
   "metadata": {},
   "outputs": [],
   "source": [
    "arr =np.array([5,6,2,1])"
   ]
  },
  {
   "cell_type": "code",
   "execution_count": 132,
   "id": "47b08469-9ef6-441e-8cfa-d7ac239b8fa9",
   "metadata": {},
   "outputs": [
    {
     "data": {
      "text/plain": [
       "array([1, 2, 5, 6])"
      ]
     },
     "execution_count": 132,
     "metadata": {},
     "output_type": "execute_result"
    }
   ],
   "source": [
    "np.sort(arr)"
   ]
  },
  {
   "cell_type": "code",
   "execution_count": 138,
   "id": "f5a37915-63bf-4ee0-972f-9363b16685ed",
   "metadata": {},
   "outputs": [],
   "source": [
    "arr4=np.random.randint(1,9,(3,3))"
   ]
  },
  {
   "cell_type": "code",
   "execution_count": 139,
   "id": "9f811b4d-a67b-484a-af0a-bd0bc2333dce",
   "metadata": {},
   "outputs": [
    {
     "data": {
      "text/plain": [
       "array([[5, 8, 6],\n",
       "       [2, 1, 7],\n",
       "       [5, 4, 7]])"
      ]
     },
     "execution_count": 139,
     "metadata": {},
     "output_type": "execute_result"
    }
   ],
   "source": [
    "arr4"
   ]
  },
  {
   "cell_type": "code",
   "execution_count": 140,
   "id": "45232361-05cd-4c98-9759-5c507a338603",
   "metadata": {},
   "outputs": [
    {
     "data": {
      "text/plain": [
       "array([[5, 6, 8],\n",
       "       [1, 2, 7],\n",
       "       [4, 5, 7]])"
      ]
     },
     "execution_count": 140,
     "metadata": {},
     "output_type": "execute_result"
    }
   ],
   "source": [
    "np.sort(arr4)"
   ]
  },
  {
   "cell_type": "code",
   "execution_count": 141,
   "id": "89e09c25-56fb-4d68-b2a4-a3aca72392ae",
   "metadata": {},
   "outputs": [
    {
     "data": {
      "text/plain": [
       "4"
      ]
     },
     "execution_count": 141,
     "metadata": {},
     "output_type": "execute_result"
    }
   ],
   "source": [
    "np.searchsorted(arr , 3)"
   ]
  },
  {
   "cell_type": "code",
   "execution_count": 142,
   "id": "007c6b9a-cd4f-4610-9f85-8502ad57768f",
   "metadata": {},
   "outputs": [
    {
     "data": {
      "text/plain": [
       "array([5, 6, 2, 1])"
      ]
     },
     "execution_count": 142,
     "metadata": {},
     "output_type": "execute_result"
    }
   ],
   "source": [
    "arr"
   ]
  },
  {
   "cell_type": "code",
   "execution_count": 143,
   "id": "0ddbafda-001d-4456-8d70-ce836530af87",
   "metadata": {},
   "outputs": [],
   "source": [
    "arr5 =np.random.randint(0,2,(3,3))"
   ]
  },
  {
   "cell_type": "code",
   "execution_count": 144,
   "id": "f47311d6-a698-4a67-98f6-5360d64022f3",
   "metadata": {},
   "outputs": [
    {
     "data": {
      "text/plain": [
       "array([[1, 0, 1],\n",
       "       [0, 1, 1],\n",
       "       [0, 1, 0]])"
      ]
     },
     "execution_count": 144,
     "metadata": {},
     "output_type": "execute_result"
    }
   ],
   "source": [
    "arr5"
   ]
  },
  {
   "cell_type": "code",
   "execution_count": 145,
   "id": "65b10c3f-f82c-40dd-aef9-a7845634f897",
   "metadata": {},
   "outputs": [
    {
     "data": {
      "text/plain": [
       "5"
      ]
     },
     "execution_count": 145,
     "metadata": {},
     "output_type": "execute_result"
    }
   ],
   "source": [
    "np.count_nonzero(arr5)"
   ]
  },
  {
   "cell_type": "code",
   "execution_count": 149,
   "id": "b48e69b8-c8db-4cbb-8b54-f1527d62dadf",
   "metadata": {},
   "outputs": [
    {
     "data": {
      "text/plain": [
       "array([[ True, False,  True],\n",
       "       [False,  True,  True],\n",
       "       [False,  True, False]])"
      ]
     },
     "execution_count": 149,
     "metadata": {},
     "output_type": "execute_result"
    }
   ],
   "source": [
    "arr5>0"
   ]
  },
  {
   "cell_type": "code",
   "execution_count": 151,
   "id": "e01bc8eb-d5e6-4060-84b1-9bfafb70c583",
   "metadata": {},
   "outputs": [
    {
     "data": {
      "text/plain": [
       "(array([0, 1, 2, 3]),)"
      ]
     },
     "execution_count": 151,
     "metadata": {},
     "output_type": "execute_result"
    }
   ],
   "source": [
    "np.where(arr>0)"
   ]
  },
  {
   "cell_type": "code",
   "execution_count": 153,
   "id": "904e5458-e3ad-4a3d-98a8-374f7bc4be27",
   "metadata": {},
   "outputs": [
    {
     "data": {
      "text/plain": [
       "array([2, 4, 3, 5, 5, 4, 9, 9, 3, 7, 2, 1])"
      ]
     },
     "execution_count": 153,
     "metadata": {},
     "output_type": "execute_result"
    }
   ],
   "source": [
    "np.extract(arr1>0,arr1)"
   ]
  },
  {
   "cell_type": "code",
   "execution_count": 156,
   "id": "753c6c93-b6d2-40c9-975f-abf2b0e57c2f",
   "metadata": {},
   "outputs": [
    {
     "data": {
      "text/plain": [
       "array([[2, 4, 3, 5],\n",
       "       [5, 4, 9, 9],\n",
       "       [3, 7, 2, 1]])"
      ]
     },
     "execution_count": 156,
     "metadata": {},
     "output_type": "execute_result"
    }
   ],
   "source": [
    "arr1"
   ]
  },
  {
   "cell_type": "code",
   "execution_count": 155,
   "id": "f81268cc-69b4-4837-b1db-c22854e72ddf",
   "metadata": {},
   "outputs": [
    {
     "data": {
      "text/plain": [
       "array([[144115188075855872, 288230376151711744, 216172782113783808,\n",
       "        360287970189639680],\n",
       "       [360287970189639680, 288230376151711744, 648518346341351424,\n",
       "        648518346341351424],\n",
       "       [216172782113783808, 504403158265495552, 144115188075855872,\n",
       "         72057594037927936]])"
      ]
     },
     "execution_count": 155,
     "metadata": {},
     "output_type": "execute_result"
    }
   ],
   "source": [
    "arr1.byteswap()"
   ]
  },
  {
   "cell_type": "code",
   "execution_count": null,
   "id": "0c88e150-c042-4b33-8d84-498c2e6377d9",
   "metadata": {},
   "outputs": [],
   "source": []
  },
  {
   "cell_type": "code",
   "execution_count": null,
   "id": "a87d3c61-0a8b-4b46-ab60-e4c095ae733d",
   "metadata": {},
   "outputs": [],
   "source": []
  },
  {
   "cell_type": "code",
   "execution_count": 159,
   "id": "827b6ae8-a33a-477c-a42b-c8e0f7da9215",
   "metadata": {},
   "outputs": [],
   "source": []
  },
  {
   "cell_type": "code",
   "execution_count": 173,
   "id": "0093f185-b3e0-4bce-a18c-f4e6d2f8ac56",
   "metadata": {},
   "outputs": [],
   "source": [
    "import numpy.matlib as nm   # matlib -- is matrix  Library "
   ]
  },
  {
   "cell_type": "code",
   "execution_count": 174,
   "id": "dd3d9731-c8d9-4d7e-89ae-a16e1d67248c",
   "metadata": {},
   "outputs": [
    {
     "data": {
      "text/plain": [
       "matrix([[0., 0., 0., 0., 0.]])"
      ]
     },
     "execution_count": 174,
     "metadata": {},
     "output_type": "execute_result"
    }
   ],
   "source": [
    "nm.zeros(5)"
   ]
  },
  {
   "cell_type": "code",
   "execution_count": 175,
   "id": "6807b70a-a058-4577-b1be-ff5b22d49011",
   "metadata": {},
   "outputs": [
    {
     "data": {
      "text/plain": [
       "matrix([[0., 0., 0., 0.],\n",
       "        [0., 0., 0., 0.],\n",
       "        [0., 0., 0., 0.]])"
      ]
     },
     "execution_count": 175,
     "metadata": {},
     "output_type": "execute_result"
    }
   ],
   "source": [
    "nm.zeros((3,4))"
   ]
  },
  {
   "cell_type": "code",
   "execution_count": 176,
   "id": "588eecbc-a8a7-4102-a854-e012c9e79d84",
   "metadata": {},
   "outputs": [
    {
     "data": {
      "text/plain": [
       "matrix([[1., 1., 1., 1., 1.]])"
      ]
     },
     "execution_count": 176,
     "metadata": {},
     "output_type": "execute_result"
    }
   ],
   "source": [
    "nm.ones(5)"
   ]
  },
  {
   "cell_type": "code",
   "execution_count": 177,
   "id": "ef8ff069-2283-4feb-9e66-e7c29af5d622",
   "metadata": {},
   "outputs": [
    {
     "data": {
      "text/plain": [
       "matrix([[1, 1, 1, 1, 1],\n",
       "        [1, 1, 1, 1, 1],\n",
       "        [1, 1, 1, 1, 1],\n",
       "        [1, 1, 1, 1, 1]])"
      ]
     },
     "execution_count": 177,
     "metadata": {},
     "output_type": "execute_result"
    }
   ],
   "source": [
    "nm.ones((4,5),int)"
   ]
  },
  {
   "cell_type": "code",
   "execution_count": null,
   "id": "7ab24ffd-bde4-47f8-9262-bf37a0dc4a73",
   "metadata": {},
   "outputs": [],
   "source": []
  },
  {
   "cell_type": "code",
   "execution_count": 178,
   "id": "cd4097da-caa5-4145-af7d-f7530754a58a",
   "metadata": {},
   "outputs": [],
   "source": [
    "# Numpy Linear algebra "
   ]
  },
  {
   "cell_type": "code",
   "execution_count": 186,
   "id": "286ea5ae-deb0-44b8-bcc5-b705eaeb37bf",
   "metadata": {},
   "outputs": [],
   "source": [
    "ar1=np.random.randint(1,10 ,(3,3))\n",
    "ar2=np.random.randint(1,10 ,(3,3))"
   ]
  },
  {
   "cell_type": "code",
   "execution_count": 187,
   "id": "83a66d86-625a-4c90-a834-56c82440971d",
   "metadata": {},
   "outputs": [
    {
     "data": {
      "text/plain": [
       "array([[2, 5, 3],\n",
       "       [9, 1, 2],\n",
       "       [6, 3, 6]])"
      ]
     },
     "execution_count": 187,
     "metadata": {},
     "output_type": "execute_result"
    }
   ],
   "source": [
    "ar1"
   ]
  },
  {
   "cell_type": "code",
   "execution_count": 188,
   "id": "8c543670-f519-4f43-9094-f95b87696451",
   "metadata": {},
   "outputs": [
    {
     "data": {
      "text/plain": [
       "array([[6, 7, 3],\n",
       "       [2, 9, 8],\n",
       "       [1, 3, 5]])"
      ]
     },
     "execution_count": 188,
     "metadata": {},
     "output_type": "execute_result"
    }
   ],
   "source": [
    "ar2"
   ]
  },
  {
   "cell_type": "code",
   "execution_count": 191,
   "id": "f0f7c6d1-050e-459d-b09e-5c02ac334bdc",
   "metadata": {},
   "outputs": [
    {
     "data": {
      "text/plain": [
       "array([[25, 68, 61],\n",
       "       [58, 78, 45],\n",
       "       [48, 87, 72]])"
      ]
     },
     "execution_count": 191,
     "metadata": {},
     "output_type": "execute_result"
    }
   ],
   "source": [
    "ar1 @ ar2"
   ]
  },
  {
   "cell_type": "code",
   "execution_count": null,
   "id": "5d692d20-8d38-4e91-80b8-38a0457bce75",
   "metadata": {},
   "outputs": [],
   "source": []
  },
  {
   "cell_type": "code",
   "execution_count": 197,
   "id": "67f6eb3d-1ea9-4aef-8a3e-f82f0a30ad2e",
   "metadata": {},
   "outputs": [],
   "source": [
    "a=np.array([[7,5,-3],[3,-5,2],[5,3,-7]])"
   ]
  },
  {
   "cell_type": "code",
   "execution_count": 198,
   "id": "c8d7d411-949c-4474-9353-d5789af3e898",
   "metadata": {},
   "outputs": [],
   "source": [
    "b=np.array([16,-8,0])"
   ]
  },
  {
   "cell_type": "code",
   "execution_count": 199,
   "id": "cc2b1423-6cf7-4a13-9034-4d35b628ec75",
   "metadata": {},
   "outputs": [
    {
     "data": {
      "text/plain": [
       "array([[ 7,  5, -3],\n",
       "       [ 3, -5,  2],\n",
       "       [ 5,  3, -7]])"
      ]
     },
     "execution_count": 199,
     "metadata": {},
     "output_type": "execute_result"
    }
   ],
   "source": [
    "a"
   ]
  },
  {
   "cell_type": "code",
   "execution_count": 200,
   "id": "12e4411e-cc11-4eb7-a6c1-eca27ca9311b",
   "metadata": {},
   "outputs": [
    {
     "data": {
      "text/plain": [
       "array([16, -8,  0])"
      ]
     },
     "execution_count": 200,
     "metadata": {},
     "output_type": "execute_result"
    }
   ],
   "source": [
    "b"
   ]
  },
  {
   "cell_type": "code",
   "execution_count": 201,
   "id": "9027e9eb-6d60-4542-9c11-42e4e441ee0d",
   "metadata": {},
   "outputs": [
    {
     "data": {
      "text/plain": [
       "array([1., 3., 2.])"
      ]
     },
     "execution_count": 201,
     "metadata": {},
     "output_type": "execute_result"
    }
   ],
   "source": [
    "np.linalg.solve(a,b)"
   ]
  },
  {
   "cell_type": "code",
   "execution_count": null,
   "id": "244313c4-5915-437f-8c26-55151dc8bb3e",
   "metadata": {},
   "outputs": [],
   "source": []
  },
  {
   "cell_type": "code",
   "execution_count": 205,
   "id": "bbd49248-ae9e-4edc-bc4c-b50fa3d2b987",
   "metadata": {},
   "outputs": [],
   "source": [
    "ar1=np.random.randint(1,9 ,(2,2))\n"
   ]
  },
  {
   "cell_type": "code",
   "execution_count": 210,
   "id": "c8c5db5c-6bdf-4d9b-8409-e2d13d36a682",
   "metadata": {},
   "outputs": [
    {
     "data": {
      "text/plain": [
       "array([[3, 7],\n",
       "       [3, 8]])"
      ]
     },
     "execution_count": 210,
     "metadata": {},
     "output_type": "execute_result"
    }
   ],
   "source": [
    "ar1"
   ]
  },
  {
   "cell_type": "code",
   "execution_count": 211,
   "id": "b9c51167-44fe-48a0-b570-263cd6c0a441",
   "metadata": {},
   "outputs": [
    {
     "data": {
      "text/plain": [
       "3.0000000000000004"
      ]
     },
     "execution_count": 211,
     "metadata": {},
     "output_type": "execute_result"
    }
   ],
   "source": [
    "np.linalg.det(ar1)"
   ]
  },
  {
   "cell_type": "code",
   "execution_count": 212,
   "id": "79e5dad8-381a-47d7-9cfe-cb27560cf721",
   "metadata": {},
   "outputs": [
    {
     "data": {
      "text/plain": [
       "array([[ 2.66666667, -2.33333333],\n",
       "       [-1.        ,  1.        ]])"
      ]
     },
     "execution_count": 212,
     "metadata": {},
     "output_type": "execute_result"
    }
   ],
   "source": [
    "np.linalg.inv(ar1)"
   ]
  },
  {
   "cell_type": "code",
   "execution_count": null,
   "id": "23cf8715-2557-4cd9-a61c-2a7cef04725f",
   "metadata": {},
   "outputs": [],
   "source": []
  }
 ],
 "metadata": {
  "kernelspec": {
   "display_name": "Python 3 (ipykernel)",
   "language": "python",
   "name": "python3"
  },
  "language_info": {
   "codemirror_mode": {
    "name": "ipython",
    "version": 3
   },
   "file_extension": ".py",
   "mimetype": "text/x-python",
   "name": "python",
   "nbconvert_exporter": "python",
   "pygments_lexer": "ipython3",
   "version": "3.10.8"
  }
 },
 "nbformat": 4,
 "nbformat_minor": 5
}
